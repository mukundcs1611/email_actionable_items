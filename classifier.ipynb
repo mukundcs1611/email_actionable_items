{
 "cells": [
  {
   "cell_type": "markdown",
   "metadata": {},
   "source": [
    "# Enron Action Item classification "
   ]
  },
  {
   "cell_type": "code",
   "execution_count": 54,
   "metadata": {
    "pycharm": {
     "is_executing": false
    }
   },
   "outputs": [],
   "source": [
    "import pandas as pd\n",
    "import tensorflow_hub as hub\n",
    "import tensorflow as tf\n",
    "from sklearn.metrics import precision_score,recall_score,f1_score,roc_curve,confusion_matrix\n",
    "from sklearn.model_selection import train_test_split\n"
   ]
  },
  {
   "cell_type": "code",
   "execution_count": 55,
   "metadata": {
    "pycharm": {
     "is_executing": false
    }
   },
   "outputs": [],
   "source": [
    "def clean_text_through_regex(message):\n",
    "#     print(row)\n",
    "    tokens = []\n",
    "    try:\n",
    "        for token in message.split():\n",
    "            token = token.lower()\n",
    "            token = re.sub(\"[image]\",\"\",token)\n",
    "            token=re.sub('x-.*:',\"\",token)\n",
    "            tokens.append(token)\n",
    "    except:\n",
    "        token = \"\"\n",
    "        tokens.append(token)\n",
    "    return \" \".join(tokens)"
   ]
  },
  {
   "cell_type": "code",
   "execution_count": 56,
   "metadata": {
    "pycharm": {
     "is_executing": false
    }
   },
   "outputs": [
    {
     "name": "stdout",
     "text": [
      "<class 'pandas.core.frame.DataFrame'>\nRangeIndex: 7795 entries, 0 to 7794\nData columns (total 2 columns):\nsentence           7795 non-null object\nactionable_item    7795 non-null bool\ndtypes: bool(1), object(1)\nmemory usage: 68.6+ KB\n"
     ],
     "output_type": "stream"
    },
    {
     "data": {
      "text/plain": "                                            sentence  actionable_item\n0            Make recommendations including budgets.             True\n1                            00 east coast nepool 90            False\n2  David, Please change the date on the draft so ...             True\n3  christian yoder and steve hall are reviewing t...            False\n4  for further assistance with unsubscribing, yo=...            False",
      "text/html": "<div>\n<style scoped>\n    .dataframe tbody tr th:only-of-type {\n        vertical-align: middle;\n    }\n\n    .dataframe tbody tr th {\n        vertical-align: top;\n    }\n\n    .dataframe thead th {\n        text-align: right;\n    }\n</style>\n<table border=\"1\" class=\"dataframe\">\n  <thead>\n    <tr style=\"text-align: right;\">\n      <th></th>\n      <th>sentence</th>\n      <th>actionable_item</th>\n    </tr>\n  </thead>\n  <tbody>\n    <tr>\n      <th>0</th>\n      <td>Make recommendations including budgets.</td>\n      <td>True</td>\n    </tr>\n    <tr>\n      <th>1</th>\n      <td>00 east coast nepool 90</td>\n      <td>False</td>\n    </tr>\n    <tr>\n      <th>2</th>\n      <td>David, Please change the date on the draft so ...</td>\n      <td>True</td>\n    </tr>\n    <tr>\n      <th>3</th>\n      <td>christian yoder and steve hall are reviewing t...</td>\n      <td>False</td>\n    </tr>\n    <tr>\n      <th>4</th>\n      <td>for further assistance with unsubscribing, yo=...</td>\n      <td>False</td>\n    </tr>\n  </tbody>\n</table>\n</div>"
     },
     "metadata": {},
     "output_type": "execute_result",
     "execution_count": 56
    }
   ],
   "source": [
    "data=pd.read_csv(\"./final_classifier_data.csv\")\n",
    "data.info()\n",
    "data.head()"
   ]
  },
  {
   "cell_type": "code",
   "execution_count": 57,
   "metadata": {
    "pycharm": {
     "is_executing": false
    }
   },
   "outputs": [
    {
     "data": {
      "text/plain": "                                            sentence actionable_item\n0            Make recommendations including budgets.               1\n1                            00 east coast nepool 90               0\n2  David, Please change the date on the draft so ...               1\n3  christian yoder and steve hall are reviewing t...               0\n4  for further assistance with unsubscribing, yo=...               0",
      "text/html": "<div>\n<style scoped>\n    .dataframe tbody tr th:only-of-type {\n        vertical-align: middle;\n    }\n\n    .dataframe tbody tr th {\n        vertical-align: top;\n    }\n\n    .dataframe thead th {\n        text-align: right;\n    }\n</style>\n<table border=\"1\" class=\"dataframe\">\n  <thead>\n    <tr style=\"text-align: right;\">\n      <th></th>\n      <th>sentence</th>\n      <th>actionable_item</th>\n    </tr>\n  </thead>\n  <tbody>\n    <tr>\n      <th>0</th>\n      <td>Make recommendations including budgets.</td>\n      <td>1</td>\n    </tr>\n    <tr>\n      <th>1</th>\n      <td>00 east coast nepool 90</td>\n      <td>0</td>\n    </tr>\n    <tr>\n      <th>2</th>\n      <td>David, Please change the date on the draft so ...</td>\n      <td>1</td>\n    </tr>\n    <tr>\n      <th>3</th>\n      <td>christian yoder and steve hall are reviewing t...</td>\n      <td>0</td>\n    </tr>\n    <tr>\n      <th>4</th>\n      <td>for further assistance with unsubscribing, yo=...</td>\n      <td>0</td>\n    </tr>\n  </tbody>\n</table>\n</div>"
     },
     "metadata": {},
     "output_type": "execute_result",
     "execution_count": 57
    }
   ],
   "source": [
    "data.loc[data['actionable_item'] ==True, 'actionable_item']=1\n",
    "data.loc[data['actionable_item']==False,'actionable_item']=0\n",
    "data.head()"
   ]
  },
  {
   "cell_type": "code",
   "execution_count": 58,
   "metadata": {
    "pycharm": {
     "is_executing": false
    }
   },
   "outputs": [
    {
     "name": "stdout",
     "text": [
      "<class 'pandas.core.frame.DataFrame'>\nInt64Index: 7735 entries, 0 to 7794\nData columns (total 2 columns):\nsentence           7735 non-null object\nactionable_item    7735 non-null object\ndtypes: object(2)\nmemory usage: 181.3+ KB\n"
     ],
     "output_type": "stream"
    }
   ],
   "source": [
    "#more cleaning\n",
    "import re\n",
    "data.sentence.str.replace(\"[image]\",\"\")\n",
    "data.sentence.str.replace(re.compile(\"x-.*:\"),\"\")\n",
    "data.sentence.str.replace(re.compile(\"<.*>.*</.*>\"),\"\")\n",
    "data.drop(data[data['sentence'].str.len() < 20].index, inplace = True) \n",
    "data.info()"
   ]
  },
  {
   "cell_type": "code",
   "execution_count": 59,
   "metadata": {
    "pycharm": {
     "is_executing": false
    }
   },
   "outputs": [
    {
     "name": "stdout",
     "text": [
      "Train set length 4950\nTest set length 1547\nVal set length 1238\n"
     ],
     "output_type": "stream"
    }
   ],
   "source": [
    "train, test = train_test_split(data, test_size=0.2)\n",
    "train,val= train_test_split(train, test_size=0.2)\n",
    "print(\"Train set length {}\".format(len(train)))\n",
    "print(\"Test set length {}\".format(len(test)))\n",
    "print(\"Val set length {}\".format(len(val)))"
   ]
  },
  {
   "cell_type": "code",
   "execution_count": 60,
   "metadata": {
    "pycharm": {
     "is_executing": false
    }
   },
   "outputs": [],
   "source": [
    "# A utility method to create a tf.data dataset from a Pandas Dataframe, From : https://www.tensorflow.org/tutorials/structured_data/feature_columns\n",
    "def df_to_dataset(dataframe, shuffle=True,batch_size=32):\n",
    "  dataframe = dataframe.copy()\n",
    "  labels = dataframe.pop('actionable_item')\n",
    "  ds = tf.data.Dataset.from_tensor_slices((dataframe['sentence'], labels))\n",
    "\n",
    "  if shuffle:\n",
    "    ds = ds.shuffle(buffer_size=len(dataframe)).batch(batch_size,drop_remainder=True)\n",
    "  return ds"
   ]
  },
  {
   "cell_type": "code",
   "execution_count": 61,
   "metadata": {
    "pycharm": {
     "is_executing": false
    }
   },
   "outputs": [],
   "source": [
    "\n",
    "train_data = df_to_dataset(train,batch_size=128)\n",
    "val_data = df_to_dataset(val, shuffle=False)\n",
    "test_data = df_to_dataset(test,shuffle=False)\n",
    "train_examples_batch=next(iter(df_to_dataset(train,batch_size=10)))\n"
   ]
  },
  {
   "cell_type": "code",
   "execution_count": 62,
   "metadata": {
    "pycharm": {
     "is_executing": false
    }
   },
   "outputs": [
    {
     "name": "stdout",
     "text": [
      "A batch of ages: tf.Tensor(\n[b'\"things should continue along these lines for the rest of the week, because there\\'s enough power to get down there but not so much that anyone can flood the market and crush prices,\" an ecar trader said'\n b', all r= ights reserved about us | contact us | webmaster | site map privacy = policy | terms of service =09'\n b'jeff, i need to see the site plan for burnet'\n b'Interact with cross-functional team to spread around world to work together in entire verification related tasks.'\n b'western spot power prices declined today from a combination of warmer weather across the region and declining natural gas prices'\n b'in this class you will: ascertain when and how to take profit and cut losses'\n b\"pat and gary's house looks like it is taking shape fast\"\n b'please see the attached spreadsheet for a trade by trade list and a summary'\n b'57) > > balance of funding $ 2,359,041'\n b'we have been working with hewitt and northern trust since july'\n b'frank, the implied risk created by the san juan and rockies indeces being partially set after today is the same as the risk in a long futures position'\n b'please call David Forster on 713 853 1861 and suggest the same changes which you told me.'\n b\"coal's advantage over gas: it's cheap\"\n b'phillip, npw laid off 20% of its workforce about 2 weeks ago, and i was unfortunately one of them'\n b'i realize that what is budget and schedule must be discussed and agreed upon'\n b'com - cpn earnings detail earnings'\n b'live audio of the conference call will be = accessible to the general public on the american express web site at http:/= /ir'\n b'click to get away with our daily escape newsletter! http://www'\n b'unfortunately, they are committed to paine webber for the foreseeable future'\n b\"com, the wall street journal's executive career site\"\n b\"tara, this note is documentation of my approval of granting executing id's to the west cash traders\"\n b'Be sure to indicate complete cardholder information.'\n b'i was wondering about alternatives'\n b'</o=enron/ou=na/cn=recipients/cn=dgiron>, giron, gustavo </o=enron/ou=na/cn=recipients/cn=ggiron>, goodell, scott </o=enron/ou=na/cn=recipients/cn=sgoodel>, grace jr'\n b'i am trying to get the status of engineering and architectural work to date'\n b'Activate all who work with Transmission or have any good ideas on the subject.'\n b'conduct an investigation of the reported matter to make it clear.'\n b'i am faxing the site plan, elevation, and floor plans'\n b'doc date: 21 nov 2001, 15:41 size: 22528 bytes'\n b'i will be in the office on friday'\n b'the san marcos ci= ty council on first reading unanimously approved changes to its sector two = land use plan -- changes over a year in the making and covering a 1'\n b'com > subject: > > > jeff, > > the file attached contains an operating statement for 2000 and a > proforma for 2001'\n b'if his headcount is different on the marketing staff use his numbers'\n b', all rights reserved about us | contact us = | webmaster | site map privacy policy | terms of service'\n b\"we hope you'll make a point of visiting us today and every day\"\n b'florida examining allowing merchant plants = full story'\n b'</o=enron/ou=na/cn=recipients/cn=sbrawne>, carson, mike </o=enron/ou=na/cn=recipients/cn=mcarson2>, cuilla, martin </o=enron/ou=na/cn=recipients/cn=mcuilla>, davis, mark dana </o=enron/ou=na/cn=recipients/cn=mdavis>, ermis, frank </o=enron/ou=na/cn=recipients/cn=fermis>, forney, john m'\n b\"5 out of 5 stars showtimes: 1:05pm | 2:05pm | 4= :00pm | 5:00pm | 7:00pm | 8:00pm | 9:55pm | 10:55pm | 12:45am behind = enemy lines pg-13owen wilson, gene hackman average customer review: 4 o= ut of 5 stars showtimes: 12:25pm | 2:55pm | 5:20pm | 7:50pm | 10:15pm | = 12:40am harry potter and the philosopher's stone pgdaniel radcliffe, = rupert grint average customer review: 4\"\n b'curb cuts or not, the sector two plan earned support from severa= l residents and neighborhood representatives, who said the plan was a good = compromise'\n b'this e-mail (and any attachments hereto) are not intended to be an offer (or an acceptance) and do not create or evidence a binding and enforceable contract between enron corp'\n b\"here are a dozen potential roadblocks to consider--don't upgrade before you read this! http://cgi\"\n b'; perrino, dave; black, don; frank, robert; miller, stephanie; tycholiz, barry; novosel, sarah; thome, jennifer subject: re: western wholesale activities - gas & power conf'\n b'i furnished a personal financial statement, ein number, and we worked through a variety of forms'\n b'Scott, prepare a project of the following 12 fixed price deals between ENA and CES that were assigned to New Power.'\n b'i agree that we will not consent to the assignment unless the release and utility issue are resolved, but i would prefer to get the utility and release resolved without waiting for the 1st lienholder to consent'\n b'salomon smith barney access is a registered service mark of salomon smith barney inc'\n b'ferc rejects please to reconsider kern river approval full story'\n b\"0 content-type: text/plain; charset=us-ascii content-transfer-encoding: 7bit x-from: o'rourke, ryan </o=enron/ou=na/cn=recipients/cn=rorourke> x-to: allen, phillip k\"\n b'three months after the low points of= the nine postwar bear markets, the s&p 500 was up an average of 14'\n b'\" -ken fahnestock southeast power prices mixed as southern markets heat up atlanta, may 14 (bloomberg energy) -- u'\n b'environments impacted: cas purpose: add resources for growth and performance'\n b'return to = top =09 =09[image]=09 [image]=09=09=09=09 showtimes for from hell near zip code 77055 please no= te: these showtimes start on friday, october 19, 2001'\n b'additionally, during this power outage the cooling system will be upgraded'\n b'mac, thanks for the research report on eog'\n b'with regard to the proposed investment structure, i would suggest a couple of changes to better align the risk/reward profile between creekside and the investors'\n b'[image] dear phillip, your privacy is extremely important to us'\n b'however, because our prices sometimes change, the prices = in the newsletter occasionally differ from those you see when you visit ou= r store'\n b'30, 2001 [image] [ima= ge] [image] [image] [image] [image] tva takes lead in sales,= generation by utilities quasi-governmental entity tennessee valley author= ity (tva) took the top spot as the utility with the largest electricity sal= es and generation for 2000, according to the latest data from boulder, colo='\n b\"Karen, please provide Louise and John with copies of the resumes Kevin's group selected for the summer interns.\"\n b'm eastern monday-friday or e-mail inquiries@interactive'\n b'it was intro= duced back in 1983 as a boxy hatchback and sedan that quickly became known= for its eminent practicality and bulletproof reliability'\n b\"lucy can't hold the tenants to a standard (vehicles must be in running order with valid stickers) if the staff doesn't live up to it\"\n b'h= ambrecht coverage initiated at buy briefing'\n b'wireless internet solutions grew substantially in canada = and slightly in asia, which was more than offset by a considerable decline = in latin america, a slight decline in the united states and a decline in eu= rope'\n b'</o=enron/ou=na/cn=recipients/cn=jtholt>, tycholiz, barry </o=enron/ou=na/cn=recipients/cn=btychol>, ward, kim s (houston) </o=enron/ou=na/cn=recipients/cn=kward>, whitt, mark </o=enron/ou=na/cn=recipients/cn=mwhitt>, wolfe, jason </o=enron/ou=na/cn=recipients/cn=jwolfe> x-cc: x-bcc: x-folder: \\\\pallen (non-privileged)\\\\allen, phillip k'\n b'john, mike is fine with signing a new contract (subject to reading the terms, of course)'\n b'gif\" width=\"525\" height=\"39\" border=\"0\" alt=\"\"></td> </tr> </table> <br> <div align=\"center\"><font face=\"arial\" size=\"2\"><a href=\"http://www'\n b', puerto rico and the u'\n b'phillip -----original message----- from: \"jeff smith\" <jsmith@austintx'\n b'com and never pay retail again! note: some auctions listed may have cl= osed as inventory levels change daily you received this e-mail because y= ou registered on cbs sportsline'\n b'now is the time to do it' b'97% can tse 300 7650'\n b'Meet with Heather to discuss interconnect as it stands to date.'\n b'Write me note about what is going on and what issues you need my help to deal with when you send the rentroll.'\n b\"also the second half of april doesn't seem to have panned out as i expected\"\n b'thanks for you= r patience'\n b'Please provide courteous services to customers while ensuring collection of dues.'\n b'this allows them to keep up with what is going on industry, and of course gives us an opportunity to educate and alert them on issues of interest to us'\n b'financial (6) west desk (14) mid market (16)'\n b'com subject: howdy!! horrible events this week!! hope you did not know anyone involved'\n b'is your understanding that the west desk will receive origination each month based on the schedule below'\n b'the texas mba tour, of which the princeton review is a partner, is a group of six business schools that host a joint mba panel discussion and admissions fair'\n b'Please confirm your availability to participate in the two and half week orientation via email to Tracy Arthur by Friday, December 22'\n b\"Compare this to the California Public Utilities Commission's definition of fair rates.\"\n b'= this would result in approximately 8'\n b'spot natural gas at the cincinnati city gate sold an average of 95 cents less than yesterday at $7'\n b'including the net loss from discontinued access solutions operations= , acquisition related costs(a), stock option compensation from acquisitions= and divestitures, one-time gains and charges, and the write down of intang= ible assets, nortel networks recorded a net loss of us$25'\n b'please keep you eyes open for similar initiatives in other markets.'\n b'edt, oct 28, 2001) north = america: 800/633-8625 passcode: 18244243# international: 416/626-4= 100 passcode: 18244243# webcast: http://www'\n b'and regulators are being asked whether they should abandon the practice of letting utilities pass along their fuel costs'\n b'i would just like to follow the market and hopefully find a great deal if i am patient'\n b'se= lect the universal search box to find that perfect holiday gift, or make a = purchase for yourself or your business'\n b'your real concerns are much more mundane--like closing your shades'\n b\"i don't know if you can imagine the house i am trying to describe\"\n b', ed; miller, stephanie; nicolay, christi l'\n b'by early fall, the analysts expect the car companies \"to ramp spending back up to support new model introductions and to regain market share from the imports'\n b'councilman ed = mihalkanin expressed similar safety concerns over the final placement of th= e curb cut'\n b'</o=enron/ou=na/cn=recipients/cn=ssouth>, sullivan, patti </o=enron/ou=na/cn=recipients/cn=psulliv>, tholt, jane m'\n b'com subject: news deadline cc: mollie'\n b'com is happy to announce the launch of its new credit center, designed to provide you with extensive information about credit'\n b'html how to publish with polish--at home http://www'\n b'john, i am going to miss the meeting with vladi about z6 and weather hedges'\n b'Make sure Enron and Oxy had project team in place asap and the resources are committed to do world class job on the January 29 submission and the 29th could be the end of the tournament.'\n b'i purchased a 32 acre tract in leander about 8 months ago'\n b'i am already involved in a couple of other real estate transactions that might qualify'\n b'you bear responsibility for your own investment research and decisions and should seek the advice of a qualified securities professional before making any investment'\n b\"you'll even be able to see who has been requesting and viewing your credit report in recent months\"\n b'75 industry telecomm equip 13' b'Please discuss this with Morgan.'\n b'lucy, thanks for clearing up the 2/2 file'\n b'[image] [image]=09=09=09=09=09showtimes starting friday, december 28, 2001, near z= ip code 77055 to receive showtimes for a zip code different from 77055 in = future e-mails, click here'\n b'time to eat too much turkey, watch too much football, kick back, relax'\n b'investors, keeping in mind that every rally of the past 19 months has u= ltimately failed, are regaining their confidence only slowly'\n b'if possible restrict their execution authority to products in the first 3 months'\n b'supply will inevitablely increase to drive this market more in balance'\n b\"the company's adjusted return on equity was 16\"\n b'Be sure to respond before December 28, 2001.'\n b'according to belton, missouri-based weather derivatives inc'\n b'arnold 0% julie gomez 100% laura luce 0% michael d'\n b'the main areas to focus on over the next week are:- (i) re-start/integration plans (due on jan 7) to be forwarded to louise these plans need to be detailed and show clear detailed timelines and detailed responsibilities for getting us up and running as soon as possible'\n b'performance dates and times: wednesday, december 26 at 7:30pm https://ticketing'\n b'com news mailing list send a blank email to: leave-news-932653v@lists'\n b'neal 0% thomas martin 33%'\n b'net/ud/ifyp/tl41/iq6y/qr/a7ej1f we respect your privacy'\n b\"it's about 2 free* motorola talkabout, two-way radios! i want to hear from you at once\"\n b'nine energy has refused to remit payment via wire transfer, per the terms of our agreement, and we are now placing them on no trades status'\n b'Please review and let us know of any proposed changes.'\n b'resident aged 18 or over to enter'], shape=(128,), dtype=string)\nA batch of targets: tf.Tensor(\n[0 0 0 1 0 0 0 0 0 0 0 1 0 0 0 0 0 0 0 0 0 1 0 0 0 1 1 0 0 0 0 0 0 0 0 0 0\n 0 0 0 0 0 0 1 0 0 0 0 0 0 0 0 0 0 0 0 0 0 1 0 0 0 0 0 0 0 0 0 0 0 0 0 1 1\n 0 0 1 0 0 0 0 0 1 1 0 0 0 1 0 0 0 0 0 0 0 0 0 0 0 0 0 0 1 0 0 0 0 0 1 0 0\n 0 0 0 0 0 1 0 0 0 0 0 0 0 0 0 1 0], shape=(128,), dtype=int32)\n"
     ],
     "output_type": "stream"
    }
   ],
   "source": [
    "for feature_batch, label_batch in train_data.take(1):\n",
    "  print('A batch of ages:', feature_batch)\n",
    "  print('A batch of targets:', label_batch)"
   ]
  },
  {
   "cell_type": "code",
   "execution_count": 63,
   "metadata": {
    "pycharm": {
     "is_executing": false
    }
   },
   "outputs": [
    {
     "name": "stdout",
     "text": [
      "(10, 20)\n"
     ],
     "output_type": "stream"
    }
   ],
   "source": [
    "embedding = \"https://tfhub.dev/google/tf2-preview/gnews-swivel-20dim/1\"\n",
    "hub_layer = hub.KerasLayer(embedding, input_shape=[], \n",
    "                           dtype=tf.string, trainable=True)\n",
    "# train_examples_batch[:3]\n",
    "embedding=hub_layer(train_examples_batch[:3][0])\n",
    "print(embedding.shape)"
   ]
  },
  {
   "cell_type": "code",
   "execution_count": 64,
   "metadata": {
    "pycharm": {
     "is_executing": false
    }
   },
   "outputs": [
    {
     "name": "stdout",
     "text": [
      "Model: \"sequential_3\"\n_________________________________________________________________\nLayer (type)                 Output Shape              Param #   \n=================================================================\nkeras_layer_3 (KerasLayer)   (None, 20)                400020    \n_________________________________________________________________\ndense_6 (Dense)              (None, 16)                336       \n_________________________________________________________________\ndense_7 (Dense)              (None, 1)                 17        \n=================================================================\nTotal params: 400,373\nTrainable params: 400,373\nNon-trainable params: 0\n_________________________________________________________________\n"
     ],
     "output_type": "stream"
    }
   ],
   "source": [
    "model = tf.keras.Sequential()\n",
    "model.add(hub_layer)\n",
    "model.add(tf.keras.layers.Dense(16, activation='relu'))\n",
    "model.add(tf.keras.layers.Dense(1, activation='sigmoid'))\n",
    "\n",
    "model.summary()"
   ]
  },
  {
   "cell_type": "code",
   "execution_count": 65,
   "metadata": {
    "pycharm": {
     "is_executing": false
    }
   },
   "outputs": [],
   "source": [
    "model.compile(optimizer='adam',\n",
    "              loss='binary_crossentropy',\n",
    "              metrics=['accuracy'])"
   ]
  },
  {
   "cell_type": "code",
   "execution_count": 66,
   "metadata": {
    "pycharm": {
     "is_executing": false
    }
   },
   "outputs": [
    {
     "name": "stdout",
     "text": [
      "Epoch 1/30\n",
      "\r      1/Unknown - 1s 690ms/step - loss: 0.7150 - accuracy: 0.6094",
      "\b\b\b\b\b\b\b\b\b\b\b\b\b\b\b\b\b\b\b\b\b\b\b\b\b\b\b\b\b\b\b\b\b\b\b\b\b\b\b\b\b\b\b\b\b\b\b\b\b\b\b\b\b\b\b\b\b\b\b\b\b\b\b\b\b\r      2/Unknown - 1s 348ms/step - loss: 0.7364 - accuracy: 0.5312",
      "\b\b\b\b\b\b\b\b\b\b\b\b\b\b\b\b\b\b\b\b\b\b\b\b\b\b\b\b\b\b\b\b\b\b\b\b\b\b\b\b\b\b\b\b\b\b\b\b\b\b\b\b\b\b\b\b\b\b\b\b\b\b\b\b\b\r      3/Unknown - 1s 235ms/step - loss: 0.7241 - accuracy: 0.5339",
      "\b\b\b\b\b\b\b\b\b\b\b\b\b\b\b\b\b\b\b\b\b\b\b\b\b\b\b\b\b\b\b\b\b\b\b\b\b\b\b\b\b\b\b\b\b\b\b\b\b\b\b\b\b\b\b\b\b\b\b\b\b\b\b\b\b\r      4/Unknown - 1s 178ms/step - loss: 0.7138 - accuracy: 0.5605",
      "\b\b\b\b\b\b\b\b\b\b\b\b\b\b\b\b\b\b\b\b\b\b\b\b\b\b\b\b\b\b\b\b\b\b\b\b\b\b\b\b\b\b\b\b\b\b\b\b\b\b\b\b\b\b\b\b\b\b\b\b\b\b\b\b\b\r      5/Unknown - 1s 145ms/step - loss: 0.6992 - accuracy: 0.5703",
      "\b\b\b\b\b\b\b\b\b\b\b\b\b\b\b\b\b\b\b\b\b\b\b\b\b\b\b\b\b\b\b\b\b\b\b\b\b\b\b\b\b\b\b\b\b\b\b\b\b\b\b\b\b\b\b\b\b\b\b\b\b\b\b\b\b\r      6/Unknown - 1s 121ms/step - loss: 0.7004 - accuracy: 0.5625",
      "\b\b\b\b\b\b\b\b\b\b\b\b\b\b\b\b\b\b\b\b\b\b\b\b\b\b\b\b\b\b\b\b\b\b\b\b\b\b\b\b\b\b\b\b\b\b\b\b\b\b\b\b\b\b\b\b\b\b\b\b\b\b\b\b\b\r      7/Unknown - 1s 105ms/step - loss: 0.6890 - accuracy: 0.5826",
      "\b\b\b\b\b\b\b\b\b\b\b\b\b\b\b\b\b\b\b\b\b\b\b\b\b\b\b\b\b\b\b\b\b\b\b\b\b\b\b\b\b\b\b\b\b\b\b\b\b\b\b\b\b\b\b\b\b\b\b\b\b\b\b\b\b\r      8/Unknown - 1s 93ms/step - loss: 0.6881 - accuracy: 0.5859 ",
      "\b\b\b\b\b\b\b\b\b\b\b\b\b\b\b\b\b\b\b\b\b\b\b\b\b\b\b\b\b\b\b\b\b\b\b\b\b\b\b\b\b\b\b\b\b\b\b\b\b\b\b\b\b\b\b\b\b\b\b\b\b\b\b\b\r      9/Unknown - 1s 84ms/step - loss: 0.6831 - accuracy: 0.5885",
      "\b\b\b\b\b\b\b\b\b\b\b\b\b\b\b\b\b\b\b\b\b\b\b\b\b\b\b\b\b\b\b\b\b\b\b\b\b\b\b\b\b\b\b\b\b\b\b\b\b\b\b\b\b\b\b\b\b\b\b\b\b\b\b\b\r     10/Unknown - 1s 76ms/step - loss: 0.6796 - accuracy: 0.5922",
      "\b\b\b\b\b\b\b\b\b\b\b\b\b\b\b\b\b\b\b\b\b\b\b\b\b\b\b\b\b\b\b\b\b\b\b\b\b\b\b\b\b\b\b\b\b\b\b\b\b\b\b\b\b\b\b\b\b\b\b\b\b\b\b\b\r     11/Unknown - 1s 70ms/step - loss: 0.6760 - accuracy: 0.5959",
      "\b\b\b\b\b\b\b\b\b\b\b\b\b\b\b\b\b\b\b\b\b\b\b\b\b\b\b\b\b\b\b\b\b\b\b\b\b\b\b\b\b\b\b\b\b\b\b\b\b\b\b\b\b\b\b\b\b\b\b\b\b\b\b\b\r     12/Unknown - 1s 65ms/step - loss: 0.6672 - accuracy: 0.6139",
      "\b\b\b\b\b\b\b\b\b\b\b\b\b\b\b\b\b\b\b\b\b\b\b\b\b\b\b\b\b\b\b\b\b\b\b\b\b\b\b\b\b\b\b\b\b\b\b\b\b\b\b\b\b\b\b\b\b\b\b\b\b\b\b\b\r     13/Unknown - 1s 60ms/step - loss: 0.6628 - accuracy: 0.6172",
      "\b\b\b\b\b\b\b\b\b\b\b\b\b\b\b\b\b\b\b\b\b\b\b\b\b\b\b\b\b\b\b\b\b\b\b\b\b\b\b\b\b\b\b\b\b\b\b\b\b\b\b\b\b\b\b\b\b\b\b\b\b\b\b\b\r     14/Unknown - 1s 57ms/step - loss: 0.6573 - accuracy: 0.6267",
      "\b\b\b\b\b\b\b\b\b\b\b\b\b\b\b\b\b\b\b\b\b\b\b\b\b\b\b\b\b\b\b\b\b\b\b\b\b\b\b\b\b\b\b\b\b\b\b\b\b\b\b\b\b\b\b\b\b\b\b\b\b\b\b\b\r     15/Unknown - 1s 53ms/step - loss: 0.6526 - accuracy: 0.6323",
      "\b\b\b\b\b\b\b\b\b\b\b\b\b\b\b\b\b\b\b\b\b\b\b\b\b\b\b\b\b\b\b\b\b\b\b\b\b\b\b\b\b\b\b\b\b\b\b\b\b\b\b\b\b\b\b\b\b\b\b\b\b\b\b\b\r     16/Unknown - 1s 51ms/step - loss: 0.6474 - accuracy: 0.6377",
      "\b\b\b\b\b\b\b\b\b\b\b\b\b\b\b\b\b\b\b\b\b\b\b\b\b\b\b\b\b\b\b\b\b\b\b\b\b\b\b\b\b\b\b\b\b\b\b\b\b\b\b\b\b\b\b\b\b\b\b\b\b\b\b\b\r     17/Unknown - 1s 48ms/step - loss: 0.6442 - accuracy: 0.6415",
      "\b\b\b\b\b\b\b\b\b\b\b\b\b\b\b\b\b\b\b\b\b\b\b\b\b\b\b\b\b\b\b\b\b\b\b\b\b\b\b\b\b\b\b\b\b\b\b\b\b\b\b\b\b\b\b\b\b\b\b\b\b\b\b\b\r     18/Unknown - 1s 46ms/step - loss: 0.6383 - accuracy: 0.6489",
      "\b\b\b\b\b\b\b\b\b\b\b\b\b\b\b\b\b\b\b\b\b\b\b\b\b\b\b\b\b\b\b\b\b\b\b\b\b\b\b\b\b\b\b\b\b\b\b\b\b\b\b\b\b\b\b\b\b\b\b\b\b\b\b\b\r     19/Unknown - 1s 45ms/step - loss: 0.6337 - accuracy: 0.6558",
      "\b\b\b\b\b\b\b\b\b\b\b\b\b\b\b\b\b\b\b\b\b\b\b\b\b\b\b\b\b\b\b\b\b\b\b\b\b\b\b\b\b\b\b\b\b\b\b\b\b\b\b\b\b\b\b\b\b\b\b\b\b\b\b\b\r     20/Unknown - 1s 43ms/step - loss: 0.6297 - accuracy: 0.6609",
      "\b\b\b\b\b\b\b\b\b\b\b\b\b\b\b\b\b\b\b\b\b\b\b\b\b\b\b\b\b\b\b\b\b\b\b\b\b\b\b\b\b\b\b\b\b\b\b\b\b\b\b\b\b\b\b\b\b\b\b\b\b\b\b\b\r     21/Unknown - 1s 41ms/step - loss: 0.6232 - accuracy: 0.6693",
      "\b\b\b\b\b\b\b\b\b\b\b\b\b\b\b\b\b\b\b\b\b\b\b\b\b\b\b\b\b\b\b\b\b\b\b\b\b\b\b\b\b\b\b\b\b\b\b\b\b\b\b\b\b\b\b\b\b\b\b\b\b\b\b\b\r     22/Unknown - 1s 40ms/step - loss: 0.6196 - accuracy: 0.6747",
      "\b\b\b\b\b\b\b\b\b\b\b\b\b\b\b\b\b\b\b\b\b\b\b\b\b\b\b\b\b\b\b\b\b\b\b\b\b\b\b\b\b\b\b\b\b\b\b\b\b\b\b\b\b\b\b\b\b\b\b\b\b\b\b\b\r     23/Unknown - 1s 38ms/step - loss: 0.6172 - accuracy: 0.6766",
      "\b\b\b\b\b\b\b\b\b\b\b\b\b\b\b\b\b\b\b\b\b\b\b\b\b\b\b\b\b\b\b\b\b\b\b\b\b\b\b\b\b\b\b\b\b\b\b\b\b\b\b\b\b\b\b\b\b\b\b\b\b\b\b\b\r     24/Unknown - 1s 37ms/step - loss: 0.6137 - accuracy: 0.6807",
      "\b\b\b\b\b\b\b\b\b\b\b\b\b\b\b\b\b\b\b\b\b\b\b\b\b\b\b\b\b\b\b\b\b\b\b\b\b\b\b\b\b\b\b\b\b\b\b\b\b\b\b\b\b\b\b\b\b\b\b\b\b\b\b\b\r     25/Unknown",
      " - 1s 36ms/step - loss: 0.6084 - accuracy: 0.6869",
      "\b\b\b\b\b\b\b\b\b\b\b\b\b\b\b\b\b\b\b\b\b\b\b\b\b\b\b\b\b\b\b\b\b\b\b\b\b\b\b\b\b\b\b\b\b\b\b\b\b\b\b\b\b\b\b\b\b\b\b\b\b\b\b\b\r     26/Unknown - 1s 35ms/step - loss: 0.6065 - accuracy: 0.6893",
      "\b\b\b\b\b\b\b\b\b\b\b\b\b\b\b\b\b\b\b\b\b\b\b\b\b\b\b\b\b\b\b\b\b\b\b\b\b\b\b\b\b\b\b\b\b\b\b\b\b\b\b\b\b\b\b\b\b\b\b\b\b\b\b\b\r     27/Unknown - 1s 34ms/step - loss: 0.6031 - accuracy: 0.6939",
      "\b\b\b\b\b\b\b\b\b\b\b\b\b\b\b\b\b\b\b\b\b\b\b\b\b\b\b\b\b\b\b\b\b\b\b\b\b\b\b\b\b\b\b\b\b\b\b\b\b\b\b\b\b\b\b\b\b\b\b\b\b\b\b\b\r     28/Unknown - 1s 33ms/step - loss: 0.6007 - accuracy: 0.6984",
      "\b\b\b\b\b\b\b\b\b\b\b\b\b\b\b\b\b\b\b\b\b\b\b\b\b\b\b\b\b\b\b\b\b\b\b\b\b\b\b\b\b\b\b\b\b\b\b\b\b\b\b\b\b\b\b\b\b\b\b\b\b\b\b\b\r     29/Unknown - 1s 33ms/step - loss: 0.5968 - accuracy: 0.7039",
      "\b\b\b\b\b\b\b\b\b\b\b\b\b\b\b\b\b\b\b\b\b\b\b\b\b\b\b\b\b\b\b\b\b\b\b\b\b\b\b\b\b\b\b\b\b\b\b\b\b\b\b\b\b\b\b\b\b\b\b\b\b\b\b\b\r     30/Unknown - 1s 32ms/step - loss: 0.5945 - accuracy: 0.7068",
      "\b\b\b\b\b\b\b\b\b\b\b\b\b\b\b\b\b\b\b\b\b\b\b\b\b\b\b\b\b\b\b\b\b\b\b\b\b\b\b\b\b\b\b\b\b\b\b\b\b\b\b\b\b\b\b\b\b\b\b\b\b\b\b\b\r     31/Unknown - 1s 31ms/step - loss: 0.5920 - accuracy: 0.7099",
      "\b\b\b\b\b\b\b\b\b\b\b\b\b\b\b\b\b\b\b\b\b\b\b\b\b\b\b\b\b\b\b\b\b\b\b\b\b\b\b\b\b\b\b\b\b\b\b\b\b\b\b\b\b\b\b\b\b\b\b\b\b\b\b\b\r     32/Unknown - 1s 30ms/step - loss: 0.5871 - accuracy: 0.7151",
      "\b\b\b\b\b\b\b\b\b\b\b\b\b\b\b\b\b\b\b\b\b\b\b\b\b\b\b\b\b\b\b\b\b\b\b\b\b\b\b\b\b\b\b\b\b\b\b\b\b\b\b\b\b\b\b\b\b\b\b\b\b\b\b\b\r     33/Unknown - 1s 30ms/step - loss: 0.5844 - accuracy: 0.7169",
      "\b\b\b\b\b\b\b\b\b\b\b\b\b\b\b\b\b\b\b\b\b\b\b\b\b\b\b\b\b\b\b\b\b\b\b\b\b\b\b\b\b\b\b\b\b\b\b\b\b\b\b\b\b\b\b\b\b\b\b\b\b\b\b\b\r     34/Unknown - 1s 29ms/step - loss: 0.5808 - accuracy: 0.7208",
      "\b\b\b\b\b\b\b\b\b\b\b\b\b\b\b\b\b\b\b\b\b\b\b\b\b\b\b\b\b\b\b\b\b\b\b\b\b\b\b\b\b\b\b\b\b\b\b\b\b\b\b\b\b\b\b\b\b\b\b\b\b\b\b\b\r     35/Unknown - 1s 28ms/step - loss: 0.5784 - accuracy: 0.7234",
      "\b\b\b\b\b\b\b\b\b\b\b\b\b\b\b\b\b\b\b\b\b\b\b\b\b\b\b\b\b\b\b\b\b\b\b\b\b\b\b\b\b\b\b\b\b\b\b\b\b\b\b\b\b\b\b\b\b\b\b\b\b\b\b\b\r     36/Unknown - 1s 28ms/step - loss: 0.5744 - accuracy: 0.7272",
      "\b\b\b\b\b\b\b\b\b\b\b\b\b\b\b\b\b\b\b\b\b\b\b\b\b\b\b\b\b\b\b\b\b\b\b\b\b\b\b\b\b\b\b\b\b\b\b\b\b\b\b\b\b\b\b\b\b\b\b\b\b\b\b\b\r     37/Unknown - 1s 27ms/step - loss: 0.5722 - accuracy: 0.7302",
      "\b\b\b\b\b\b\b\b\b\b\b\b\b\b\b\b\b\b\b\b\b\b\b\b\b\b\b\b\b\b\b\b\b\b\b\b\b\b\b\b\b\b\b\b\b\b\b\b\b\b\b\b\b\b\b\b\b\b\b\b\b\b\b\b\r     38/Unknown - 1s 27ms/step - loss: 0.5703 - accuracy: 0.7319",
      "\b\b\b\b\b\b\b\b\b\b\b\b\b\b\b\b\b\b\b\b\b\b\b\b\b\b\b\b\b\b\b\b\b\b\b\b\b\b\b\b\b\b\b\b\b\b\b\b\b\b\b\b\b\b\b\b\b\b\b\b\b\b\b\b\r38/38 [==============================] - 1s 32ms/step - loss: 0.5703 - accuracy: 0.7319 - val_loss: 0.0000e+00 - val_accuracy: 0.0000e+00\n",
      "Epoch 2/30\n\r 1/38 [..............................] - ETA: 0s - loss: 0.4824 - accuracy: 0.8359",
      "\b\b\b\b\b\b\b\b\b\b\b\b\b\b\b\b\b\b\b\b\b\b\b\b\b\b\b\b\b\b\b\b\b\b\b\b\b\b\b\b\b\b\b\b\b\b\b\b\b\b\b\b\b\b\b\b\b\b\b\b\b\b\b\b\b\b\b\b\b\b\b\b\b\b\b\b\b\b\b\b\b\b\r10/38 [======>.......................] - ETA: 0s - loss: 0.4701 - accuracy: 0.8234",
      "\b\b\b\b\b\b\b\b\b\b\b\b\b\b\b\b\b\b\b\b\b\b\b\b\b\b\b\b\b\b\b\b\b\b\b\b\b\b\b\b\b\b\b\b\b\b\b\b\b\b\b\b\b\b\b\b\b\b\b\b\b\b\b\b\b\b\b\b\b\b\b\b\b\b\b\b\b\b\b\b\b\b\r17/38 [============>.................] - ETA: 0s - loss: 0.4468 - accuracy: 0.8346",
      "\b\b\b\b\b\b\b\b\b\b\b\b\b\b\b\b\b\b\b\b\b\b\b\b\b\b\b\b\b\b\b\b\b\b\b\b\b\b\b\b\b\b\b\b\b\b\b\b\b\b\b\b\b\b\b\b\b\b\b\b\b\b\b\b\b\b\b\b\b\b\b\b\b\b\b\b\b\b\b\b\b\b\r26/38 [===================>..........] - ETA: 0s - loss: 0.4329 - accuracy: 0.8419",
      "\b\b\b\b\b\b\b\b\b\b\b\b\b\b\b\b\b\b\b\b\b\b\b\b\b\b\b\b\b\b\b\b\b\b\b\b\b\b\b\b\b\b\b\b\b\b\b\b\b\b\b\b\b\b\b\b\b\b\b\b\b\b\b\b\b\b\b\b\b\b\b\b\b\b\b\b\b\b\b\b\b\b\r35/38 [==========================>...] - ETA: 0s - loss: 0.4261 - accuracy: 0.8431",
      "\b\b\b\b\b\b\b\b\b\b\b\b\b\b\b\b\b\b\b\b\b\b\b\b\b\b\b\b\b\b\b\b\b\b\b\b\b\b\b\b\b\b\b\b\b\b\b\b\b\b\b\b\b\b\b\b\b\b\b\b\b\b\b\b\b\b\b\b\b\b\b\b\b\b\b\b\b\b\b\b\b\b\r38/38 [==============================] - 0s 8ms/step - loss: 0.4228 - accuracy: 0.8446 - val_loss: 0.3881 - val_accuracy: 0.8585\n",
      "Epoch 3/30\n",
      "\r 1/38 [..............................] - ETA: 0s - loss: 0.3424 - accuracy: 0.9219",
      "\b\b\b\b\b\b\b\b\b\b\b\b\b\b\b\b\b\b\b\b\b\b\b\b\b\b\b\b\b\b\b\b\b\b\b\b\b\b\b\b\b\b\b\b\b\b\b\b\b\b\b\b\b\b\b\b\b\b\b\b\b\b\b\b\b\b\b\b\b\b\b\b\b\b\b\b\b\b\b\b\b\b\r 9/38 [======>.......................] - ETA: 0s - loss: 0.3608 - accuracy: 0.8637",
      "\b\b\b\b\b\b\b\b\b\b\b\b\b\b\b\b\b\b\b\b\b\b\b\b\b\b\b\b\b\b\b\b\b\b\b\b\b\b\b\b\b\b\b\b\b\b\b\b\b\b\b\b\b\b\b\b\b\b\b\b\b\b\b\b\b\b\b\b\b\b\b\b\b\b\b\b\b\b\b\b\b\b\r17/38 [============>.................] - ETA: 0s - loss: 0.3637 - accuracy: 0.8585",
      "\b\b\b\b\b\b\b\b\b\b\b\b\b\b\b\b\b\b\b\b\b\b\b\b\b\b\b\b\b\b\b\b\b\b\b\b\b\b\b\b\b\b\b\b\b\b\b\b\b\b\b\b\b\b\b\b\b\b\b\b\b\b\b\b\b\b\b\b\b\b\b\b\b\b\b\b\b\b\b\b\b\b\r26/38 [===================>..........] - ETA: 0s - loss: 0.3609 - accuracy: 0.8573",
      "\b\b\b\b\b\b\b\b\b\b\b\b\b\b\b\b\b\b\b\b\b\b\b\b\b\b\b\b\b\b\b\b\b\b\b\b\b\b\b\b\b\b\b\b\b\b\b\b\b\b\b\b\b\b\b\b\b\b\b\b\b\b\b\b\b\b\b\b\b\b\b\b\b\b\b\b\b\b\b\b\b\b\r35/38 [==========================>...] - ETA: 0s - loss: 0.3547 - accuracy: 0.8616",
      "\b\b\b\b\b\b\b\b\b\b\b\b\b\b\b\b\b\b\b\b\b\b\b\b\b\b\b\b\b\b\b\b\b\b\b\b\b\b\b\b\b\b\b\b\b\b\b\b\b\b\b\b\b\b\b\b\b\b\b\b\b\b\b\b\b\b\b\b\b\b\b\b\b\b\b\b\b\b\b\b\b\b\r38/38 [==============================] - 0s 8ms/step - loss: 0.3553 - accuracy: 0.8602 - val_loss: 0.3410 - val_accuracy: 0.8741\n",
      "Epoch 4/30\n\r 1/38 [..............................] - ETA: 0s - loss: 0.3921 - accuracy: 0.8203",
      "\b\b\b\b\b\b\b\b\b\b\b\b\b\b\b\b\b\b\b\b\b\b\b\b\b\b\b\b\b\b\b\b\b\b\b\b\b\b\b\b\b\b\b\b\b\b\b\b\b\b\b\b\b\b\b\b\b\b\b\b\b\b\b\b\b\b\b\b\b\b\b\b\b\b\b\b\b\b\b\b\b\b\r10/38 [======>.......................] - ETA: 0s - loss: 0.3379 - accuracy: 0.8562",
      "\b\b\b\b\b\b\b\b\b\b\b\b\b\b\b\b\b\b\b\b\b\b\b\b\b\b\b\b\b\b\b\b\b\b\b\b\b\b\b\b\b\b\b\b\b\b\b\b\b\b\b\b\b\b\b\b\b\b\b\b\b\b\b\b\b\b\b\b\b\b\b\b\b\b\b\b\b\b\b\b\b\b\r19/38 [==============>...............] - ETA: 0s - loss: 0.3213 - accuracy: 0.8697",
      "\b\b\b\b\b\b\b\b\b\b\b\b\b\b\b\b\b\b\b\b\b\b\b\b\b\b\b\b\b\b\b\b\b\b\b\b\b\b\b\b\b\b\b\b\b\b\b\b\b\b\b\b\b\b\b\b\b\b\b\b\b\b\b\b\b\b\b\b\b\b\b\b\b\b\b\b\b\b\b\b\b\b\r28/38 [=====================>........] - ETA: 0s - loss: 0.3159 - accuracy: 0.8742",
      "\b\b\b\b\b\b\b\b\b\b\b\b\b\b\b\b\b\b\b\b\b\b\b\b\b\b\b\b\b\b\b\b\b\b\b\b\b\b\b\b\b\b\b\b\b\b\b\b\b\b\b\b\b\b\b\b\b\b\b\b\b\b\b\b\b\b\b\b\b\b\b\b\b\b\b\b\b\b\b\b\b\b\r37/38 [============================>.] - ETA: 0s - loss: 0.3085 - accuracy: 0.8782",
      "\b\b\b\b\b\b\b\b\b\b\b\b\b\b\b\b\b\b\b\b\b\b\b\b\b\b\b\b\b\b\b\b\b\b\b\b\b\b\b\b\b\b\b\b\b\b\b\b\b\b\b\b\b\b\b\b\b\b\b\b\b\b\b\b\b\b\b\b\b\b\b\b\b\b\b\b\b\b\b\b\b\b\r38/38 [==============================] - 0s 8ms/step - loss: 0.3085 - accuracy: 0.8777 - val_loss: 0.3027 - val_accuracy: 0.8906\n",
      "Epoch 5/30\n\r 1/38 [..............................] - ETA: 0s - loss: 0.3009 - accuracy: 0.8828",
      "\b\b\b\b\b\b\b\b\b\b\b\b\b\b\b\b\b\b\b\b\b\b\b\b\b\b\b\b\b\b\b\b\b\b\b\b\b\b\b\b\b\b\b\b\b\b\b\b\b\b\b\b\b\b\b\b\b\b\b\b\b\b\b\b\b\b\b\b\b\b\b\b\b\b\b\b\b\b\b\b\b\b\r11/38 [=======>......................] - ETA: 0s - loss: 0.2882 - accuracy: 0.8821",
      "\b\b\b\b\b\b\b\b\b\b\b\b\b\b\b\b\b\b\b\b\b\b\b\b\b\b\b\b\b\b\b\b\b\b\b\b\b\b\b\b\b\b\b\b\b\b\b\b\b\b\b\b\b\b\b\b\b\b\b\b\b\b\b\b\b\b\b\b\b\b\b\b\b\b\b\b\b\b\b\b\b\b\r22/38 [================>.............] - ETA: 0s - loss: 0.2721 - accuracy: 0.8967",
      "\b\b\b\b\b\b\b\b\b\b\b\b\b\b\b\b\b\b\b\b\b\b\b\b\b\b\b\b\b\b\b\b\b\b\b\b\b\b\b\b\b\b\b\b\b\b\b\b\b\b\b\b\b\b\b\b\b\b\b\b\b\b\b\b\b\b\b\b\b\b\b\b\b\b\b\b\b\b\b\b\b\b\r32/38 [========================>.....] - ETA: 0s - loss: 0.2710 - accuracy: 0.8950",
      "\b\b\b\b\b\b\b\b\b\b\b\b\b\b\b\b\b\b\b\b\b\b\b\b\b\b\b\b\b\b\b\b\b\b\b\b\b\b\b\b\b\b\b\b\b\b\b\b\b\b\b\b\b\b\b\b\b\b\b\b\b\b\b\b\b\b\b\b\b\b\b\b\b\b\b\b\b\b\b\b\b\b\r38/38 [==============================] - 0s 7ms/step - loss: 0.2693 - accuracy: 0.8966 - val_loss: 0.2684 - val_accuracy: 0.9028\n",
      "Epoch 6/30\n",
      "\r 1/38 [..............................] - ETA: 0s - loss: 0.2256 - accuracy: 0.9141",
      "\b\b\b\b\b\b\b\b\b\b\b\b\b\b\b\b\b\b\b\b\b\b\b\b\b\b\b\b\b\b\b\b\b\b\b\b\b\b\b\b\b\b\b\b\b\b\b\b\b\b\b\b\b\b\b\b\b\b\b\b\b\b\b\b\b\b\b\b\b\b\b\b\b\b\b\b\b\b\b\b\b\b\r11/38 [=======>......................] - ETA: 0s - loss: 0.2260 - accuracy: 0.9148",
      "\b\b\b\b\b\b\b\b\b\b\b\b\b\b\b\b\b\b\b\b\b\b\b\b\b\b\b\b\b\b\b\b\b\b\b\b\b\b\b\b\b\b\b\b\b\b\b\b\b\b\b\b\b\b\b\b\b\b\b\b\b\b\b\b\b\b\b\b\b\b\b\b\b\b\b\b\b\b\b\b\b\b\r20/38 [==============>...............] - ETA: 0s - loss: 0.2350 - accuracy: 0.9148",
      "\b\b\b\b\b\b\b\b\b\b\b\b\b\b\b\b\b\b\b\b\b\b\b\b\b\b\b\b\b\b\b\b\b\b\b\b\b\b\b\b\b\b\b\b\b\b\b\b\b\b\b\b\b\b\b\b\b\b\b\b\b\b\b\b\b\b\b\b\b\b\b\b\b\b\b\b\b\b\b\b\b\b\r30/38 [======================>.......] - ETA: 0s - loss: 0.2285 - accuracy: 0.9174",
      "\b\b\b\b\b\b\b\b\b\b\b\b\b\b\b\b\b\b\b\b\b\b\b\b\b\b\b\b\b\b\b\b\b\b\b\b\b\b\b\b\b\b\b\b\b\b\b\b\b\b\b\b\b\b\b\b\b\b\b\b\b\b\b\b\b\b\b\b\b\b\b\b\b\b\b\b\b\b\b\b\b\b\r38/38 [==============================] - 0s 7ms/step - loss: 0.2275 - accuracy: 0.9196 - val_loss: 0.2372 - val_accuracy: 0.9167\n",
      "Epoch 7/30\n",
      "\r 1/38 [..............................] - ETA: 0s - loss: 0.2182 - accuracy: 0.9375",
      "\b\b\b\b\b\b\b\b\b\b\b\b\b\b\b\b\b\b\b\b\b\b\b\b\b\b\b\b\b\b\b\b\b\b\b\b\b\b\b\b\b\b\b\b\b\b\b\b\b\b\b\b\b\b\b\b\b\b\b\b\b\b\b\b\b\b\b\b\b\b\b\b\b\b\b\b\b\b\b\b\b\b\r11/38 [=======>......................] - ETA: 0s - loss: 0.1976 - accuracy: 0.9290",
      "\b\b\b\b\b\b\b\b\b\b\b\b\b\b\b\b\b\b\b\b\b\b\b\b\b\b\b\b\b\b\b\b\b\b\b\b\b\b\b\b\b\b\b\b\b\b\b\b\b\b\b\b\b\b\b\b\b\b\b\b\b\b\b\b\b\b\b\b\b\b\b\b\b\b\b\b\b\b\b\b\b\b\r21/38 [===============>..............] - ETA: 0s - loss: 0.1910 - accuracy: 0.9360",
      "\b\b\b\b\b\b\b\b\b\b\b\b\b\b\b\b\b\b\b\b\b\b\b\b\b\b\b\b\b\b\b\b\b\b\b\b\b\b\b\b\b\b\b\b\b\b\b\b\b\b\b\b\b\b\b\b\b\b\b\b\b\b\b\b\b\b\b\b\b\b\b\b\b\b\b\b\b\b\b\b\b\b\r31/38 [=======================>......] - ETA: 0s - loss: 0.1902 - accuracy: 0.9355",
      "\b\b\b\b\b\b\b\b\b\b\b\b\b\b\b\b\b\b\b\b\b\b\b\b\b\b\b\b\b\b\b\b\b\b\b\b\b\b\b\b\b\b\b\b\b\b\b\b\b\b\b\b\b\b\b\b\b\b\b\b\b\b\b\b\b\b\b\b\b\b\b\b\b\b\b\b\b\b\b\b\b\b\r38/38 [==============================] - 0s 7ms/step - loss: 0.1911 - accuracy: 0.9350 - val_loss: 0.2093 - val_accuracy: 0.9245\n",
      "Epoch 8/30\n",
      "\r 1/38 [..............................] - ETA: 0s - loss: 0.1782 - accuracy: 0.9297",
      "\b\b\b\b\b\b\b\b\b\b\b\b\b\b\b\b\b\b\b\b\b\b\b\b\b\b\b\b\b\b\b\b\b\b\b\b\b\b\b\b\b\b\b\b\b\b\b\b\b\b\b\b\b\b\b\b\b\b\b\b\b\b\b\b\b\b\b\b\b\b\b\b\b\b\b\b\b\b\b\b\b\b\r12/38 [========>.....................] - ETA: 0s - loss: 0.1766 - accuracy: 0.9401",
      "\b\b\b\b\b\b\b\b\b\b\b\b\b\b\b\b\b\b\b\b\b\b\b\b\b\b\b\b\b\b\b\b\b\b\b\b\b\b\b\b\b\b\b\b\b\b\b\b\b\b\b\b\b\b\b\b\b\b\b\b\b\b\b\b\b\b\b\b\b\b\b\b\b\b\b\b\b\b\b\b\b\b\r22/38 [================>.............] - ETA: 0s - loss: 0.1618 - accuracy: 0.9460",
      "\b\b\b\b\b\b\b\b\b\b\b\b\b\b\b\b\b\b\b\b\b\b\b\b\b\b\b\b\b\b\b\b\b\b\b\b\b\b\b\b\b\b\b\b\b\b\b\b\b\b\b\b\b\b\b\b\b\b\b\b\b\b\b\b\b\b\b\b\b\b\b\b\b\b\b\b\b\b\b\b\b\b\r33/38 [=========================>....] - ETA: 0s - loss: 0.1602 - accuracy: 0.9489",
      "\b\b\b\b\b\b\b\b\b\b\b\b\b\b\b\b\b\b\b\b\b\b\b\b\b\b\b\b\b\b\b\b\b\b\b\b\b\b\b\b\b\b\b\b\b\b\b\b\b\b\b\b\b\b\b\b\b\b\b\b\b\b\b\b\b\b\b\b\b\b\b\b\b\b\b\b\b\b\b\b\b\b\r38/38 [==============================] - 0s 7ms/step - loss: 0.1594 - accuracy: 0.9486 - val_loss: 0.1875 - val_accuracy: 0.9375\n",
      "Epoch 9/30\n\r 1/38 [..............................] - ETA: 0s - loss: 0.1422 - accuracy: 0.9688",
      "\b\b\b\b\b\b\b\b\b\b\b\b\b\b\b\b\b\b\b\b\b\b\b\b\b\b\b\b\b\b\b\b\b\b\b\b\b\b\b\b\b\b\b\b\b\b\b\b\b\b\b\b\b\b\b\b\b\b\b\b\b\b\b\b\b\b\b\b\b\b\b\b\b\b\b\b\b\b\b\b\b\b\r11/38 [=======>......................] - ETA: 0s - loss: 0.1559 - accuracy: 0.9538",
      "\b\b\b\b\b\b\b\b\b\b\b\b\b\b\b\b\b\b\b\b\b\b\b\b\b\b\b\b\b\b\b\b\b\b\b\b\b\b\b\b\b\b\b\b\b\b\b\b\b\b\b\b\b\b\b\b\b\b\b\b\b\b\b\b\b\b\b\b\b\b\b\b\b\b\b\b\b\b\b\b\b\b\r22/38 [================>.............] - ETA: 0s - loss: 0.1370 - accuracy: 0.9606",
      "\b\b\b\b\b\b\b\b\b\b\b\b\b\b\b\b\b\b\b\b\b\b\b\b\b\b\b\b\b\b\b\b\b\b\b\b\b\b\b\b\b\b\b\b\b\b\b\b\b\b\b\b\b\b\b\b\b\b\b\b\b\b\b\b\b\b\b\b\b\b\b\b\b\b\b\b\b\b\b\b\b\b\r33/38 [=========================>....] - ETA: 0s - loss: 0.1342 - accuracy: 0.9609",
      "\b\b\b\b\b\b\b\b\b\b\b\b\b\b\b\b\b\b\b\b\b\b\b\b\b\b\b\b\b\b\b\b\b\b\b\b\b\b\b\b\b\b\b\b\b\b\b\b\b\b\b\b\b\b\b\b\b\b\b\b\b\b\b\b\b\b\b\b\b\b\b\b\b\b\b\b\b\b\b\b\b\b\r38/38 [==============================] - 0s 7ms/step - loss: 0.1329 - accuracy: 0.9595 - val_loss: 0.1704 - val_accuracy: 0.9427\n",
      "Epoch 10/30\n",
      "\r 1/38 [..............................] - ETA: 0s - loss: 0.1419 - accuracy: 0.9688",
      "\b\b\b\b\b\b\b\b\b\b\b\b\b\b\b\b\b\b\b\b\b\b\b\b\b\b\b\b\b\b\b\b\b\b\b\b\b\b\b\b\b\b\b\b\b\b\b\b\b\b\b\b\b\b\b\b\b\b\b\b\b\b\b\b\b\b\b\b\b\b\b\b\b\b\b\b\b\b\b\b\b\b\r11/38 [=======>......................] - ETA: 0s - loss: 0.1225 - accuracy: 0.9538",
      "\b\b\b\b\b\b\b\b\b\b\b\b\b\b\b\b\b\b\b\b\b\b\b\b\b\b\b\b\b\b\b\b\b\b\b\b\b\b\b\b\b\b\b\b\b\b\b\b\b\b\b\b\b\b\b\b\b\b\b\b\b\b\b\b\b\b\b\b\b\b\b\b\b\b\b\b\b\b\b\b\b\b\r21/38 [===============>..............] - ETA: 0s - loss: 0.1163 - accuracy: 0.9621",
      "\b\b\b\b\b\b\b\b\b\b\b\b\b\b\b\b\b\b\b\b\b\b\b\b\b\b\b\b\b\b\b\b\b\b\b\b\b\b\b\b\b\b\b\b\b\b\b\b\b\b\b\b\b\b\b\b\b\b\b\b\b\b\b\b\b\b\b\b\b\b\b\b\b\b\b\b\b\b\b\b\b\b\r31/38 [=======================>......] - ETA: 0s - loss: 0.1173 - accuracy: 0.9635",
      "\b\b\b\b\b\b\b\b\b\b\b\b\b\b\b\b\b\b\b\b\b\b\b\b\b\b\b\b\b\b\b\b\b\b\b\b\b\b\b\b\b\b\b\b\b\b\b\b\b\b\b\b\b\b\b\b\b\b\b\b\b\b\b\b\b\b\b\b\b\b\b\b\b\b\b\b\b\b\b\b\b\b\r38/38 [==============================] - 0s 7ms/step - loss: 0.1181 - accuracy: 0.9630 - val_loss: 0.1563 - val_accuracy: 0.9488\n",
      "Epoch 11/30\n",
      "\r 1/38 [..............................] - ETA: 0s - loss: 0.1293 - accuracy: 0.9609",
      "\b\b\b\b\b\b\b\b\b\b\b\b\b\b\b\b\b\b\b\b\b\b\b\b\b\b\b\b\b\b\b\b\b\b\b\b\b\b\b\b\b\b\b\b\b\b\b\b\b\b\b\b\b\b\b\b\b\b\b\b\b\b\b\b\b\b\b\b\b\b\b\b\b\b\b\b\b\b\b\b\b\b\r11/38 [=======>......................] - ETA: 0s - loss: 0.0957 - accuracy: 0.9709",
      "\b\b\b\b\b\b\b\b\b\b\b\b\b\b\b\b\b\b\b\b\b\b\b\b\b\b\b\b\b\b\b\b\b\b\b\b\b\b\b\b\b\b\b\b\b\b\b\b\b\b\b\b\b\b\b\b\b\b\b\b\b\b\b\b\b\b\b\b\b\b\b\b\b\b\b\b\b\b\b\b\b\b\r21/38 [===============>..............] - ETA: 0s - loss: 0.0987 - accuracy: 0.9688",
      "\b\b\b\b\b\b\b\b\b\b\b\b\b\b\b\b\b\b\b\b\b\b\b\b\b\b\b\b\b\b\b\b\b\b\b\b\b\b\b\b\b\b\b\b\b\b\b\b\b\b\b\b\b\b\b\b\b\b\b\b\b\b\b\b\b\b\b\b\b\b\b\b\b\b\b\b\b\b\b\b\b\b\r30/38 [======================>.......] - ETA: 0s - loss: 0.1003 - accuracy: 0.9682",
      "\b\b\b\b\b\b\b\b\b\b\b\b\b\b\b\b\b\b\b\b\b\b\b\b\b\b\b\b\b\b\b\b\b\b\b\b\b\b\b\b\b\b\b\b\b\b\b\b\b\b\b\b\b\b\b\b\b\b\b\b\b\b\b\b\b\b\b\b\b\b\b\b\b\b\b\b\b\b\b\b\b\b\r38/38 [==============================] - 0s 7ms/step - loss: 0.1012 - accuracy: 0.9679 - val_loss: 0.1448 - val_accuracy: 0.9514\n",
      "Epoch 12/30\n\r 1/38 [..............................] - ETA: 0s - loss: 0.1250 - accuracy: 0.9453",
      "\b\b\b\b\b\b\b\b\b\b\b\b\b\b\b\b\b\b\b\b\b\b\b\b\b\b\b\b\b\b\b\b\b\b\b\b\b\b\b\b\b\b\b\b\b\b\b\b\b\b\b\b\b\b\b\b\b\b\b\b\b\b\b\b\b\b\b\b\b\b\b\b\b\b\b\b\b\b\b\b\b\b\r11/38 [=======>......................] - ETA: 0s - loss: 0.0866 - accuracy: 0.9737",
      "\b\b\b\b\b\b\b\b\b\b\b\b\b\b\b\b\b\b\b\b\b\b\b\b\b\b\b\b\b\b\b\b\b\b\b\b\b\b\b\b\b\b\b\b\b\b\b\b\b\b\b\b\b\b\b\b\b\b\b\b\b\b\b\b\b\b\b\b\b\b\b\b\b\b\b\b\b\b\b\b\b\b\r20/38 [==============>...............] - ETA: 0s - loss: 0.0913 - accuracy: 0.9719",
      "\b\b\b\b\b\b\b\b\b\b\b\b\b\b\b\b\b\b\b\b\b\b\b\b\b\b\b\b\b\b\b\b\b\b\b\b\b\b\b\b\b\b\b\b\b\b\b\b\b\b\b\b\b\b\b\b\b\b\b\b\b\b\b\b\b\b\b\b\b\b\b\b\b\b\b\b\b\b\b\b\b\b\r30/38 [======================>.......] - ETA: 0s - loss: 0.0888 - accuracy: 0.9716",
      "\b\b\b\b\b\b\b\b\b\b\b\b\b\b\b\b\b\b\b\b\b\b\b\b\b\b\b\b\b\b\b\b\b\b\b\b\b\b\b\b\b\b\b\b\b\b\b\b\b\b\b\b\b\b\b\b\b\b\b\b\b\b\b\b\b\b\b\b\b\b\b\b\b\b\b\b\b\b\b\b\b\b\r38/38 [==============================] - 0s 7ms/step - loss: 0.0885 - accuracy: 0.9725 - val_loss: 0.1355 - val_accuracy: 0.9531\n",
      "Epoch 13/30\n",
      "\r 1/38 [..............................] - ETA: 0s - loss: 0.1237 - accuracy: 0.9375",
      "\b\b\b\b\b\b\b\b\b\b\b\b\b\b\b\b\b\b\b\b\b\b\b\b\b\b\b\b\b\b\b\b\b\b\b\b\b\b\b\b\b\b\b\b\b\b\b\b\b\b\b\b\b\b\b\b\b\b\b\b\b\b\b\b\b\b\b\b\b\b\b\b\b\b\b\b\b\b\b\b\b\b\r10/38 [======>.......................] - ETA: 0s - loss: 0.0950 - accuracy: 0.9695",
      "\b\b\b\b\b\b\b\b\b\b\b\b\b\b\b\b\b\b\b\b\b\b\b\b\b\b\b\b\b\b\b\b\b\b\b\b\b\b\b\b\b\b\b\b\b\b\b\b\b\b\b\b\b\b\b\b\b\b\b\b\b\b\b\b\b\b\b\b\b\b\b\b\b\b\b\b\b\b\b\b\b\b\r19/38 [==============>...............] - ETA: 0s - loss: 0.0824 - accuracy: 0.9733",
      "\b\b\b\b\b\b\b\b\b\b\b\b\b\b\b\b\b\b\b\b\b\b\b\b\b\b\b\b\b\b\b\b\b\b\b\b\b\b\b\b\b\b\b\b\b\b\b\b\b\b\b\b\b\b\b\b\b\b\b\b\b\b\b\b\b\b\b\b\b\b\b\b\b\b\b\b\b\b\b\b\b\b\r29/38 [=====================>........] - ETA: 0s - loss: 0.0795 - accuracy: 0.9752",
      "\b\b\b\b\b\b\b\b\b\b\b\b\b\b\b\b\b\b\b\b\b\b\b\b\b\b\b\b\b\b\b\b\b\b\b\b\b\b\b\b\b\b\b\b\b\b\b\b\b\b\b\b\b\b\b\b\b\b\b\b\b\b\b\b\b\b\b\b\b\b\b\b\b\b\b\b\b\b\b\b\b\b\r38/38 [==============================] - 0s 7ms/step - loss: 0.0789 - accuracy: 0.9770 - val_loss: 0.1294 - val_accuracy: 0.9549\n",
      "Epoch 14/30\n\r 1/38 [..............................] - ETA: 0s - loss: 0.0759 - accuracy: 0.9844",
      "\b\b\b\b\b\b\b\b\b\b\b\b\b\b\b\b\b\b\b\b\b\b\b\b\b\b\b\b\b\b\b\b\b\b\b\b\b\b\b\b\b\b\b\b\b\b\b\b\b\b\b\b\b\b\b\b\b\b\b\b\b\b\b\b\b\b\b\b\b\b\b\b\b\b\b\b\b\b\b\b\b\b\r12/38 [========>.....................] - ETA: 0s - loss: 0.0704 - accuracy: 0.9798",
      "\b\b\b\b\b\b\b\b\b\b\b\b\b\b\b\b\b\b\b\b\b\b\b\b\b\b\b\b\b\b\b\b\b\b\b\b\b\b\b\b\b\b\b\b\b\b\b\b\b\b\b\b\b\b\b\b\b\b\b\b\b\b\b\b\b\b\b\b\b\b\b\b\b\b\b\b\b\b\b\b\b\b\r23/38 [=================>............] - ETA: 0s - loss: 0.0688 - accuracy: 0.9806",
      "\b\b\b\b\b\b\b\b\b\b\b\b\b\b\b\b\b\b\b\b\b\b\b\b\b\b\b\b\b\b\b\b\b\b\b\b\b\b\b\b\b\b\b\b\b\b\b\b\b\b\b\b\b\b\b\b\b\b\b\b\b\b\b\b\b\b\b\b\b\b\b\b\b\b\b\b\b\b\b\b\b\b\r33/38 [=========================>....] - ETA: 0s - loss: 0.0671 - accuracy: 0.9801",
      "\b\b\b\b\b\b\b\b\b\b\b\b\b\b\b\b\b\b\b\b\b\b\b\b\b\b\b\b\b\b\b\b\b\b\b\b\b\b\b\b\b\b\b\b\b\b\b\b\b\b\b\b\b\b\b\b\b\b\b\b\b\b\b\b\b\b\b\b\b\b\b\b\b\b\b\b\b\b\b\b\b\b\r38/38 [==============================] - 0s 6ms/step - loss: 0.0675 - accuracy: 0.9799 - val_loss: 0.1223 - val_accuracy: 0.9566\n",
      "Epoch 15/30\n\r 1/38 [..............................] - ETA: 0s - loss: 0.0603 - accuracy: 0.9844",
      "\b\b\b\b\b\b\b\b\b\b\b\b\b\b\b\b\b\b\b\b\b\b\b\b\b\b\b\b\b\b\b\b\b\b\b\b\b\b\b\b\b\b\b\b\b\b\b\b\b\b\b\b\b\b\b\b\b\b\b\b\b\b\b\b\b\b\b\b\b\b\b\b\b\b\b\b\b\b\b\b\b\b\r11/38 [=======>......................] - ETA: 0s - loss: 0.0575 - accuracy: 0.9851",
      "\b\b\b\b\b\b\b\b\b\b\b\b\b\b\b\b\b\b\b\b\b\b\b\b\b\b\b\b\b\b\b\b\b\b\b\b\b\b\b\b\b\b\b\b\b\b\b\b\b\b\b\b\b\b\b\b\b\b\b\b\b\b\b\b\b\b\b\b\b\b\b\b\b\b\b\b\b\b\b\b\b\b\r21/38 [===============>..............] - ETA: 0s - loss: 0.0629 - accuracy: 0.9833",
      "\b\b\b\b\b\b\b\b\b\b\b\b\b\b\b\b\b\b\b\b\b\b\b\b\b\b\b\b\b\b\b\b\b\b\b\b\b\b\b\b\b\b\b\b\b\b\b\b\b\b\b\b\b\b\b\b\b\b\b\b\b\b\b\b\b\b\b\b\b\b\b\b\b\b\b\b\b\b\b\b\b\b\r30/38 [======================>.......] - ETA: 0s - loss: 0.0597 - accuracy: 0.9836",
      "\b\b\b\b\b\b\b\b\b\b\b\b\b\b\b\b\b\b\b\b\b\b\b\b\b\b\b\b\b\b\b\b\b\b\b\b\b\b\b\b\b\b\b\b\b\b\b\b\b\b\b\b\b\b\b\b\b\b\b\b\b\b\b\b\b\b\b\b\b\b\b\b\b\b\b\b\b\b\b\b\b\b\r38/38 [==============================] - 0s 7ms/step - loss: 0.0603 - accuracy: 0.9836 - val_loss: 0.1175 - val_accuracy: 0.9601\n",
      "Epoch 16/30\n\r 1/38 [..............................] - ETA: 0s - loss: 0.0611 - accuracy: 0.9922",
      "\b\b\b\b\b\b\b\b\b\b\b\b\b\b\b\b\b\b\b\b\b\b\b\b\b\b\b\b\b\b\b\b\b\b\b\b\b\b\b\b\b\b\b\b\b\b\b\b\b\b\b\b\b\b\b\b\b\b\b\b\b\b\b\b\b\b\b\b\b\b\b\b\b\b\b\b\b\b\b\b\b\b\r11/38 [=======>......................] - ETA: 0s - loss: 0.0601 - accuracy: 0.9822",
      "\b\b\b\b\b\b\b\b\b\b\b\b\b\b\b\b\b\b\b\b\b\b\b\b\b\b\b\b\b\b\b\b\b\b\b\b\b\b\b\b\b\b\b\b\b\b\b\b\b\b\b\b\b\b\b\b\b\b\b\b\b\b\b\b\b\b\b\b\b\b\b\b\b\b\b\b\b\b\b\b\b\b\r21/38 [===============>..............] - ETA: 0s - loss: 0.0550 - accuracy: 0.9851",
      "\b\b\b\b\b\b\b\b\b\b\b\b\b\b\b\b\b\b\b\b\b\b\b\b\b\b\b\b\b\b\b\b\b\b\b\b\b\b\b\b\b\b\b\b\b\b\b\b\b\b\b\b\b\b\b\b\b\b\b\b\b\b\b\b\b\b\b\b\b\b\b\b\b\b\b\b\b\b\b\b\b\b\r31/38 [=======================>......] - ETA: 0s - loss: 0.0535 - accuracy: 0.9851",
      "\b\b\b\b\b\b\b\b\b\b\b\b\b\b\b\b\b\b\b\b\b\b\b\b\b\b\b\b\b\b\b\b\b\b\b\b\b\b\b\b\b\b\b\b\b\b\b\b\b\b\b\b\b\b\b\b\b\b\b\b\b\b\b\b\b\b\b\b\b\b\b\b\b\b\b\b\b\b\b\b\b\b\r38/38 [==============================] - 0s 7ms/step - loss: 0.0536 - accuracy: 0.9844 - val_loss: 0.1133 - val_accuracy: 0.9592\n",
      "Epoch 17/30\n",
      "\r 1/38 [..............................] - ETA: 0s - loss: 0.0433 - accuracy: 0.9844",
      "\b\b\b\b\b\b\b\b\b\b\b\b\b\b\b\b\b\b\b\b\b\b\b\b\b\b\b\b\b\b\b\b\b\b\b\b\b\b\b\b\b\b\b\b\b\b\b\b\b\b\b\b\b\b\b\b\b\b\b\b\b\b\b\b\b\b\b\b\b\b\b\b\b\b\b\b\b\b\b\b\b\b\r11/38 [=======>......................] - ETA: 0s - loss: 0.0423 - accuracy: 0.9901",
      "\b\b\b\b\b\b\b\b\b\b\b\b\b\b\b\b\b\b\b\b\b\b\b\b\b\b\b\b\b\b\b\b\b\b\b\b\b\b\b\b\b\b\b\b\b\b\b\b\b\b\b\b\b\b\b\b\b\b\b\b\b\b\b\b\b\b\b\b\b\b\b\b\b\b\b\b\b\b\b\b\b\b\r21/38 [===============>..............] - ETA: 0s - loss: 0.0418 - accuracy: 0.9900",
      "\b\b\b\b\b\b\b\b\b\b\b\b\b\b\b\b\b\b\b\b\b\b\b\b\b\b\b\b\b\b\b\b\b\b\b\b\b\b\b\b\b\b\b\b\b\b\b\b\b\b\b\b\b\b\b\b\b\b\b\b\b\b\b\b\b\b\b\b\b\b\b\b\b\b\b\b\b\b\b\b\b\b\r32/38 [========================>.....] - ETA: 0s - loss: 0.0432 - accuracy: 0.9883",
      "\b\b\b\b\b\b\b\b\b\b\b\b\b\b\b\b\b\b\b\b\b\b\b\b\b\b\b\b\b\b\b\b\b\b\b\b\b\b\b\b\b\b\b\b\b\b\b\b\b\b\b\b\b\b\b\b\b\b\b\b\b\b\b\b\b\b\b\b\b\b\b\b\b\b\b\b\b\b\b\b\b\b\r38/38 [==============================] - 0s 7ms/step - loss: 0.0464 - accuracy: 0.9868 - val_loss: 0.1116 - val_accuracy: 0.9592\n",
      "Epoch 18/30\n\r 1/38 [..............................] - ETA: 0s - loss: 0.0375 - accuracy: 0.9844",
      "\b\b\b\b\b\b\b\b\b\b\b\b\b\b\b\b\b\b\b\b\b\b\b\b\b\b\b\b\b\b\b\b\b\b\b\b\b\b\b\b\b\b\b\b\b\b\b\b\b\b\b\b\b\b\b\b\b\b\b\b\b\b\b\b\b\b\b\b\b\b\b\b\b\b\b\b\b\b\b\b\b\b\r11/38 [=======>......................] - ETA: 0s - loss: 0.0407 - accuracy: 0.9879",
      "\b\b\b\b\b\b\b\b\b\b\b\b\b\b\b\b\b\b\b\b\b\b\b\b\b\b\b\b\b\b\b\b\b\b\b\b\b\b\b\b\b\b\b\b\b\b\b\b\b\b\b\b\b\b\b\b\b\b\b\b\b\b\b\b\b\b\b\b\b\b\b\b\b\b\b\b\b\b\b\b\b\b\r20/38 [==============>...............] - ETA: 0s - loss: 0.0406 - accuracy: 0.9887",
      "\b\b\b\b\b\b\b\b\b\b\b\b\b\b\b\b\b\b\b\b\b\b\b\b\b\b\b\b\b\b\b\b\b\b\b\b\b\b\b\b\b\b\b\b\b\b\b\b\b\b\b\b\b\b\b\b\b\b\b\b\b\b\b\b\b\b\b\b\b\b\b\b\b\b\b\b\b\b\b\b\b\b\r28/38 [=====================>........] - ETA: 0s - loss: 0.0421 - accuracy: 0.9886",
      "\b\b\b\b\b\b\b\b\b\b\b\b\b\b\b\b\b\b\b\b\b\b\b\b\b\b\b\b\b\b\b\b\b\b\b\b\b\b\b\b\b\b\b\b\b\b\b\b\b\b\b\b\b\b\b\b\b\b\b\b\b\b\b\b\b\b\b\b\b\b\b\b\b\b\b\b\b\b\b\b\b\b\r37/38 [============================>.] - ETA: 0s - loss: 0.0406 - accuracy: 0.9890",
      "\b\b\b\b\b\b\b\b\b\b\b\b\b\b\b\b\b\b\b\b\b\b\b\b\b\b\b\b\b\b\b\b\b\b\b\b\b\b\b\b\b\b\b\b\b\b\b\b\b\b\b\b\b\b\b\b\b\b\b\b\b\b\b\b\b\b\b\b\b\b\b\b\b\b\b\b\b\b\b\b\b\b\r38/38 [==============================] - 0s 8ms/step - loss: 0.0406 - accuracy: 0.9889 - val_loss: 0.1098 - val_accuracy: 0.9601\n",
      "Epoch 19/30\n\r 1/38 [..............................] - ETA: 0s - loss: 0.0541 - accuracy: 0.9844",
      "\b\b\b\b\b\b\b\b\b\b\b\b\b\b\b\b\b\b\b\b\b\b\b\b\b\b\b\b\b\b\b\b\b\b\b\b\b\b\b\b\b\b\b\b\b\b\b\b\b\b\b\b\b\b\b\b\b\b\b\b\b\b\b\b\b\b\b\b\b\b\b\b\b\b\b\b\b\b\b\b\b\b\r11/38 [=======>......................] - ETA: 0s - loss: 0.0417 - accuracy: 0.9901",
      "\b\b\b\b\b\b\b\b\b\b\b\b\b\b\b\b\b\b\b\b\b\b\b\b\b\b\b\b\b\b\b\b\b\b\b\b\b\b\b\b\b\b\b\b\b\b\b\b\b\b\b\b\b\b\b\b\b\b\b\b\b\b\b\b\b\b\b\b\b\b\b\b\b\b\b\b\b\b\b\b\b\b\r20/38 [==============>...............] - ETA: 0s - loss: 0.0380 - accuracy: 0.9910",
      "\b\b\b\b\b\b\b\b\b\b\b\b\b\b\b\b\b\b\b\b\b\b\b\b\b\b\b\b\b\b\b\b\b\b\b\b\b\b\b\b\b\b\b\b\b\b\b\b\b\b\b\b\b\b\b\b\b\b\b\b\b\b\b\b\b\b\b\b\b\b\b\b\b\b\b\b\b\b\b\b\b\b\r29/38 [=====================>........] - ETA: 0s - loss: 0.0361 - accuracy: 0.9911",
      "\b\b\b\b\b\b\b\b\b\b\b\b\b\b\b\b\b\b\b\b\b\b\b\b\b\b\b\b\b\b\b\b\b\b\b\b\b\b\b\b\b\b\b\b\b\b\b\b\b\b\b\b\b\b\b\b\b\b\b\b\b\b\b\b\b\b\b\b\b\b\b\b\b\b\b\b\b\b\b\b\b\b\r37/38 [============================>.] - ETA: 0s - loss: 0.0342 - accuracy: 0.9916",
      "\b\b\b\b\b\b\b\b\b\b\b\b\b\b\b\b\b\b\b\b\b\b\b\b\b\b\b\b\b\b\b\b\b\b\b\b\b\b\b\b\b\b\b\b\b\b\b\b\b\b\b\b\b\b\b\b\b\b\b\b\b\b\b\b\b\b\b\b\b\b\b\b\b\b\b\b\b\b\b\b\b\b\r38/38 [==============================] - 0s 8ms/step - loss: 0.0342 - accuracy: 0.9912 - val_loss: 0.1072 - val_accuracy: 0.9601\n",
      "Epoch 20/30\n\r 1/38 [..............................] - ETA: 0s - loss: 0.0162 - accuracy: 0.9922",
      "\b\b\b\b\b\b\b\b\b\b\b\b\b\b\b\b\b\b\b\b\b\b\b\b\b\b\b\b\b\b\b\b\b\b\b\b\b\b\b\b\b\b\b\b\b\b\b\b\b\b\b\b\b\b\b\b\b\b\b\b\b\b\b\b\b\b\b\b\b\b\b\b\b\b\b\b\b\b\b\b\b\b\r11/38 [=======>......................] - ETA: 0s - loss: 0.0346 - accuracy: 0.9922",
      "\b\b\b\b\b\b\b\b\b\b\b\b\b\b\b\b\b\b\b\b\b\b\b\b\b\b\b\b\b\b\b\b\b\b\b\b\b\b\b\b\b\b\b\b\b\b\b\b\b\b\b\b\b\b\b\b\b\b\b\b\b\b\b\b\b\b\b\b\b\b\b\b\b\b\b\b\b\b\b\b\b\b\r21/38 [===============>..............] - ETA: 0s - loss: 0.0317 - accuracy: 0.9940",
      "\b\b\b\b\b\b\b\b\b\b\b\b\b\b\b\b\b\b\b\b\b\b\b\b\b\b\b\b\b\b\b\b\b\b\b\b\b\b\b\b\b\b\b\b\b\b\b\b\b\b\b\b\b\b\b\b\b\b\b\b\b\b\b\b\b\b\b\b\b\b\b\b\b\b\b\b\b\b\b\b\b\b\r32/38 [========================>.....] - ETA: 0s - loss: 0.0311 - accuracy: 0.9934",
      "\b\b\b\b\b\b\b\b\b\b\b\b\b\b\b\b\b\b\b\b\b\b\b\b\b\b\b\b\b\b\b\b\b\b\b\b\b\b\b\b\b\b\b\b\b\b\b\b\b\b\b\b\b\b\b\b\b\b\b\b\b\b\b\b\b\b\b\b\b\b\b\b\b\b\b\b\b\b\b\b\b\b\r38/38 [==============================] - 0s 7ms/step - loss: 0.0313 - accuracy: 0.9928 - val_loss: 0.1055 - val_accuracy: 0.9609\n",
      "Epoch 21/30\n\r 1/38 [..............................] - ETA: 0s - loss: 0.0348 - accuracy: 0.9844",
      "\b\b\b\b\b\b\b\b\b\b\b\b\b\b\b\b\b\b\b\b\b\b\b\b\b\b\b\b\b\b\b\b\b\b\b\b\b\b\b\b\b\b\b\b\b\b\b\b\b\b\b\b\b\b\b\b\b\b\b\b\b\b\b\b\b\b\b\b\b\b\b\b\b\b\b\b\b\b\b\b\b\b\r11/38 [=======>......................] - ETA: 0s - loss: 0.0269 - accuracy: 0.9943",
      "\b\b\b\b\b\b\b\b\b\b\b\b\b\b\b\b\b\b\b\b\b\b\b\b\b\b\b\b\b\b\b\b\b\b\b\b\b\b\b\b\b\b\b\b\b\b\b\b\b\b\b\b\b\b\b\b\b\b\b\b\b\b\b\b\b\b\b\b\b\b\b\b\b\b\b\b\b\b\b\b\b\b\r21/38 [===============>..............] - ETA: 0s - loss: 0.0267 - accuracy: 0.9944",
      "\b\b\b\b\b\b\b\b\b\b\b\b\b\b\b\b\b\b\b\b\b\b\b\b\b\b\b\b\b\b\b\b\b\b\b\b\b\b\b\b\b\b\b\b\b\b\b\b\b\b\b\b\b\b\b\b\b\b\b\b\b\b\b\b\b\b\b\b\b\b\b\b\b\b\b\b\b\b\b\b\b\b\r32/38 [========================>.....] - ETA: 0s - loss: 0.0268 - accuracy: 0.9946",
      "\b\b\b\b\b\b\b\b\b\b\b\b\b\b\b\b\b\b\b\b\b\b\b\b\b\b\b\b\b\b\b\b\b\b\b\b\b\b\b\b\b\b\b\b\b\b\b\b\b\b\b\b\b\b\b\b\b\b\b\b\b\b\b\b\b\b\b\b\b\b\b\b\b\b\b\b\b\b\b\b\b\b\r38/38 [==============================] - 0s 6ms/step - loss: 0.0279 - accuracy: 0.9938 - val_loss: 0.1046 - val_accuracy: 0.9618\n",
      "Epoch 22/30\n\r 1/38 [..............................] - ETA: 0s - loss: 0.0172 - accuracy: 1.0000",
      "\b\b\b\b\b\b\b\b\b\b\b\b\b\b\b\b\b\b\b\b\b\b\b\b\b\b\b\b\b\b\b\b\b\b\b\b\b\b\b\b\b\b\b\b\b\b\b\b\b\b\b\b\b\b\b\b\b\b\b\b\b\b\b\b\b\b\b\b\b\b\b\b\b\b\b\b\b\b\b\b\b\b\r10/38 [======>.......................] - ETA: 0s - loss: 0.0247 - accuracy: 0.9977",
      "\b\b\b\b\b\b\b\b\b\b\b\b\b\b\b\b\b\b\b\b\b\b\b\b\b\b\b\b\b\b\b\b\b\b\b\b\b\b\b\b\b\b\b\b\b\b\b\b\b\b\b\b\b\b\b\b\b\b\b\b\b\b\b\b\b\b\b\b\b\b\b\b\b\b\b\b\b\b\b\b\b\b\r20/38 [==============>...............] - ETA: 0s - loss: 0.0240 - accuracy: 0.9965",
      "\b\b\b\b\b\b\b\b\b\b\b\b\b\b\b\b\b\b\b\b\b\b\b\b\b\b\b\b\b\b\b\b\b\b\b\b\b\b\b\b\b\b\b\b\b\b\b\b\b\b\b\b\b\b\b\b\b\b\b\b\b\b\b\b\b\b\b\b\b\b\b\b\b\b\b\b\b\b\b\b\b\b\r31/38 [=======================>......] - ETA: 0s - loss: 0.0241 - accuracy: 0.9957",
      "\b\b\b\b\b\b\b\b\b\b\b\b\b\b\b\b\b\b\b\b\b\b\b\b\b\b\b\b\b\b\b\b\b\b\b\b\b\b\b\b\b\b\b\b\b\b\b\b\b\b\b\b\b\b\b\b\b\b\b\b\b\b\b\b\b\b\b\b\b\b\b\b\b\b\b\b\b\b\b\b\b\b\r38/38 [==============================] - 0s 7ms/step - loss: 0.0247 - accuracy: 0.9953 - val_loss: 0.1031 - val_accuracy: 0.9618\n",
      "Epoch 23/30\n",
      "\r 1/38 [..............................] - ETA: 0s - loss: 0.0326 - accuracy: 0.9922",
      "\b\b\b\b\b\b\b\b\b\b\b\b\b\b\b\b\b\b\b\b\b\b\b\b\b\b\b\b\b\b\b\b\b\b\b\b\b\b\b\b\b\b\b\b\b\b\b\b\b\b\b\b\b\b\b\b\b\b\b\b\b\b\b\b\b\b\b\b\b\b\b\b\b\b\b\b\b\b\b\b\b\b\r11/38 [=======>......................] - ETA: 0s - loss: 0.0199 - accuracy: 0.9964",
      "\b\b\b\b\b\b\b\b\b\b\b\b\b\b\b\b\b\b\b\b\b\b\b\b\b\b\b\b\b\b\b\b\b\b\b\b\b\b\b\b\b\b\b\b\b\b\b\b\b\b\b\b\b\b\b\b\b\b\b\b\b\b\b\b\b\b\b\b\b\b\b\b\b\b\b\b\b\b\b\b\b\b\r22/38 [================>.............] - ETA: 0s - loss: 0.0247 - accuracy: 0.9957",
      "\b\b\b\b\b\b\b\b\b\b\b\b\b\b\b\b\b\b\b\b\b\b\b\b\b\b\b\b\b\b\b\b\b\b\b\b\b\b\b\b\b\b\b\b\b\b\b\b\b\b\b\b\b\b\b\b\b\b\b\b\b\b\b\b\b\b\b\b\b\b\b\b\b\b\b\b\b\b\b\b\b\b\r33/38 [=========================>....] - ETA: 0s - loss: 0.0226 - accuracy: 0.9960",
      "\b\b\b\b\b\b\b\b\b\b\b\b\b\b\b\b\b\b\b\b\b\b\b\b\b\b\b\b\b\b\b\b\b\b\b\b\b\b\b\b\b\b\b\b\b\b\b\b\b\b\b\b\b\b\b\b\b\b\b\b\b\b\b\b\b\b\b\b\b\b\b\b\b\b\b\b\b\b\b\b\b\b\r38/38 [==============================] - 0s 6ms/step - loss: 0.0216 - accuracy: 0.9961 - val_loss: 0.1049 - val_accuracy: 0.9601\n",
      "Epoch 24/30\n\r 1/38 [..............................] - ETA: 0s - loss: 0.0090 - accuracy: 1.0000",
      "\b\b\b\b\b\b\b\b\b\b\b\b\b\b\b\b\b\b\b\b\b\b\b\b\b\b\b\b\b\b\b\b\b\b\b\b\b\b\b\b\b\b\b\b\b\b\b\b\b\b\b\b\b\b\b\b\b\b\b\b\b\b\b\b\b\b\b\b\b\b\b\b\b\b\b\b\b\b\b\b\b\b\r11/38 [=======>......................] - ETA: 0s - loss: 0.0209 - accuracy: 0.9936",
      "\b\b\b\b\b\b\b\b\b\b\b\b\b\b\b\b\b\b\b\b\b\b\b\b\b\b\b\b\b\b\b\b\b\b\b\b\b\b\b\b\b\b\b\b\b\b\b\b\b\b\b\b\b\b\b\b\b\b\b\b\b\b\b\b\b\b\b\b\b\b\b\b\b\b\b\b\b\b\b\b\b\b\r21/38 [===============>..............] - ETA: 0s - loss: 0.0195 - accuracy: 0.9948",
      "\b\b\b\b\b\b\b\b\b\b\b\b\b\b\b\b\b\b\b\b\b\b\b\b\b\b\b\b\b\b\b\b\b\b\b\b\b\b\b\b\b\b\b\b\b\b\b\b\b\b\b\b\b\b\b\b\b\b\b\b\b\b\b\b\b\b\b\b\b\b\b\b\b\b\b\b\b\b\b\b\b\b\r31/38 [=======================>......] - ETA: 0s - loss: 0.0201 - accuracy: 0.9955",
      "\b\b\b\b\b\b\b\b\b\b\b\b\b\b\b\b\b\b\b\b\b\b\b\b\b\b\b\b\b\b\b\b\b\b\b\b\b\b\b\b\b\b\b\b\b\b\b\b\b\b\b\b\b\b\b\b\b\b\b\b\b\b\b\b\b\b\b\b\b\b\b\b\b\b\b\b\b\b\b\b\b\b\r38/38 [==============================] - 0s 7ms/step - loss: 0.0194 - accuracy: 0.9961 - val_loss: 0.1045 - val_accuracy: 0.9609\n",
      "Epoch 25/30\n",
      "\r 1/38 [..............................] - ETA: 0s - loss: 0.0267 - accuracy: 0.9922",
      "\b\b\b\b\b\b\b\b\b\b\b\b\b\b\b\b\b\b\b\b\b\b\b\b\b\b\b\b\b\b\b\b\b\b\b\b\b\b\b\b\b\b\b\b\b\b\b\b\b\b\b\b\b\b\b\b\b\b\b\b\b\b\b\b\b\b\b\b\b\b\b\b\b\b\b\b\b\b\b\b\b\b\r10/38 [======>.......................] - ETA: 0s - loss: 0.0155 - accuracy: 0.9984",
      "\b\b\b\b\b\b\b\b\b\b\b\b\b\b\b\b\b\b\b\b\b\b\b\b\b\b\b\b\b\b\b\b\b\b\b\b\b\b\b\b\b\b\b\b\b\b\b\b\b\b\b\b\b\b\b\b\b\b\b\b\b\b\b\b\b\b\b\b\b\b\b\b\b\b\b\b\b\b\b\b\b\b\r19/38 [==============>...............] - ETA: 0s - loss: 0.0148 - accuracy: 0.9979",
      "\b\b\b\b\b\b\b\b\b\b\b\b\b\b\b\b\b\b\b\b\b\b\b\b\b\b\b\b\b\b\b\b\b\b\b\b\b\b\b\b\b\b\b\b\b\b\b\b\b\b\b\b\b\b\b\b\b\b\b\b\b\b\b\b\b\b\b\b\b\b\b\b\b\b\b\b\b\b\b\b\b\b\r29/38 [=====================>........] - ETA: 0s - loss: 0.0158 - accuracy: 0.9976",
      "\b\b\b\b\b\b\b\b\b\b\b\b\b\b\b\b\b\b\b\b\b\b\b\b\b\b\b\b\b\b\b\b\b\b\b\b\b\b\b\b\b\b\b\b\b\b\b\b\b\b\b\b\b\b\b\b\b\b\b\b\b\b\b\b\b\b\b\b\b\b\b\b\b\b\b\b\b\b\b\b\b\b\r38/38 [==============================] - 0s 7ms/step - loss: 0.0161 - accuracy: 0.9967 - val_loss: 0.1045 - val_accuracy: 0.9635\n",
      "Epoch 26/30\n\r 1/38 [..............................] - ETA: 0s - loss: 0.0087 - accuracy: 1.0000",
      "\b\b\b\b\b\b\b\b\b\b\b\b\b\b\b\b\b\b\b\b\b\b\b\b\b\b\b\b\b\b\b\b\b\b\b\b\b\b\b\b\b\b\b\b\b\b\b\b\b\b\b\b\b\b\b\b\b\b\b\b\b\b\b\b\b\b\b\b\b\b\b\b\b\b\b\b\b\b\b\b\b\b\r11/38 [=======>......................] - ETA: 0s - loss: 0.0124 - accuracy: 0.9986",
      "\b\b\b\b\b\b\b\b\b\b\b\b\b\b\b\b\b\b\b\b\b\b\b\b\b\b\b\b\b\b\b\b\b\b\b\b\b\b\b\b\b\b\b\b\b\b\b\b\b\b\b\b\b\b\b\b\b\b\b\b\b\b\b\b\b\b\b\b\b\b\b\b\b\b\b\b\b\b\b\b\b\b\r21/38 [===============>..............] - ETA: 0s - loss: 0.0169 - accuracy: 0.9970",
      "\b\b\b\b\b\b\b\b\b\b\b\b\b\b\b\b\b\b\b\b\b\b\b\b\b\b\b\b\b\b\b\b\b\b\b\b\b\b\b\b\b\b\b\b\b\b\b\b\b\b\b\b\b\b\b\b\b\b\b\b\b\b\b\b\b\b\b\b\b\b\b\b\b\b\b\b\b\b\b\b\b\b\r31/38 [=======================>......] - ETA: 0s - loss: 0.0151 - accuracy: 0.9977",
      "\b\b\b\b\b\b\b\b\b\b\b\b\b\b\b\b\b\b\b\b\b\b\b\b\b\b\b\b\b\b\b\b\b\b\b\b\b\b\b\b\b\b\b\b\b\b\b\b\b\b\b\b\b\b\b\b\b\b\b\b\b\b\b\b\b\b\b\b\b\b\b\b\b\b\b\b\b\b\b\b\b\b\r38/38 [==============================] - 0s 7ms/step - loss: 0.0152 - accuracy: 0.9973 - val_loss: 0.1058 - val_accuracy: 0.9653\n",
      "Epoch 27/30\n",
      "\r 1/38 [..............................] - ETA: 0s - loss: 0.0074 - accuracy: 1.0000",
      "\b\b\b\b\b\b\b\b\b\b\b\b\b\b\b\b\b\b\b\b\b\b\b\b\b\b\b\b\b\b\b\b\b\b\b\b\b\b\b\b\b\b\b\b\b\b\b\b\b\b\b\b\b\b\b\b\b\b\b\b\b\b\b\b\b\b\b\b\b\b\b\b\b\b\b\b\b\b\b\b\b\b\r12/38 [========>.....................] - ETA: 0s - loss: 0.0129 - accuracy: 0.9974",
      "\b\b\b\b\b\b\b\b\b\b\b\b\b\b\b\b\b\b\b\b\b\b\b\b\b\b\b\b\b\b\b\b\b\b\b\b\b\b\b\b\b\b\b\b\b\b\b\b\b\b\b\b\b\b\b\b\b\b\b\b\b\b\b\b\b\b\b\b\b\b\b\b\b\b\b\b\b\b\b\b\b\b\r21/38 [===============>..............] - ETA: 0s - loss: 0.0130 - accuracy: 0.9974",
      "\b\b\b\b\b\b\b\b\b\b\b\b\b\b\b\b\b\b\b\b\b\b\b\b\b\b\b\b\b\b\b\b\b\b\b\b\b\b\b\b\b\b\b\b\b\b\b\b\b\b\b\b\b\b\b\b\b\b\b\b\b\b\b\b\b\b\b\b\b\b\b\b\b\b\b\b\b\b\b\b\b\b\r31/38 [=======================>......] - ETA: 0s - loss: 0.0139 - accuracy: 0.9977",
      "\b\b\b\b\b\b\b\b\b\b\b\b\b\b\b\b\b\b\b\b\b\b\b\b\b\b\b\b\b\b\b\b\b\b\b\b\b\b\b\b\b\b\b\b\b\b\b\b\b\b\b\b\b\b\b\b\b\b\b\b\b\b\b\b\b\b\b\b\b\b\b\b\b\b\b\b\b\b\b\b\b\b\r38/38 [==============================] - 0s 7ms/step - loss: 0.0135 - accuracy: 0.9979 - val_loss: 0.1063 - val_accuracy: 0.9653\n",
      "Epoch 28/30\n\r 1/38 [..............................] - ETA: 0s - loss: 0.0154 - accuracy: 1.0000",
      "\b\b\b\b\b\b\b\b\b\b\b\b\b\b\b\b\b\b\b\b\b\b\b\b\b\b\b\b\b\b\b\b\b\b\b\b\b\b\b\b\b\b\b\b\b\b\b\b\b\b\b\b\b\b\b\b\b\b\b\b\b\b\b\b\b\b\b\b\b\b\b\b\b\b\b\b\b\b\b\b\b\b\r10/38 [======>.......................] - ETA: 0s - loss: 0.0107 - accuracy: 0.9992",
      "\b\b\b\b\b\b\b\b\b\b\b\b\b\b\b\b\b\b\b\b\b\b\b\b\b\b\b\b\b\b\b\b\b\b\b\b\b\b\b\b\b\b\b\b\b\b\b\b\b\b\b\b\b\b\b\b\b\b\b\b\b\b\b\b\b\b\b\b\b\b\b\b\b\b\b\b\b\b\b\b\b\b\r20/38 [==============>...............] - ETA: 0s - loss: 0.0121 - accuracy: 0.9988",
      "\b\b\b\b\b\b\b\b\b\b\b\b\b\b\b\b\b\b\b\b\b\b\b\b\b\b\b\b\b\b\b\b\b\b\b\b\b\b\b\b\b\b\b\b\b\b\b\b\b\b\b\b\b\b\b\b\b\b\b\b\b\b\b\b\b\b\b\b\b\b\b\b\b\b\b\b\b\b\b\b\b\b\r30/38 [======================>.......] - ETA: 0s - loss: 0.0121 - accuracy: 0.9987",
      "\b\b\b\b\b\b\b\b\b\b\b\b\b\b\b\b\b\b\b\b\b\b\b\b\b\b\b\b\b\b\b\b\b\b\b\b\b\b\b\b\b\b\b\b\b\b\b\b\b\b\b\b\b\b\b\b\b\b\b\b\b\b\b\b\b\b\b\b\b\b\b\b\b\b\b\b\b\b\b\b\b\b\r38/38 [==============================] - 0s 7ms/step - loss: 0.0120 - accuracy: 0.9984 - val_loss: 0.1058 - val_accuracy: 0.9661\n",
      "Epoch 29/30\n\r 1/38 [..............................] - ETA: 0s - loss: 0.0076 - accuracy: 1.0000",
      "\b\b\b\b\b\b\b\b\b\b\b\b\b\b\b\b\b\b\b\b\b\b\b\b\b\b\b\b\b\b\b\b\b\b\b\b\b\b\b\b\b\b\b\b\b\b\b\b\b\b\b\b\b\b\b\b\b\b\b\b\b\b\b\b\b\b\b\b\b\b\b\b\b\b\b\b\b\b\b\b\b\b\r12/38 [========>.....................] - ETA: 0s - loss: 0.0103 - accuracy: 0.9993",
      "\b\b\b\b\b\b\b\b\b\b\b\b\b\b\b\b\b\b\b\b\b\b\b\b\b\b\b\b\b\b\b\b\b\b\b\b\b\b\b\b\b\b\b\b\b\b\b\b\b\b\b\b\b\b\b\b\b\b\b\b\b\b\b\b\b\b\b\b\b\b\b\b\b\b\b\b\b\b\b\b\b\b\r22/38 [================>.............] - ETA: 0s - loss: 0.0125 - accuracy: 0.9986",
      "\b\b\b\b\b\b\b\b\b\b\b\b\b\b\b\b\b\b\b\b\b\b\b\b\b\b\b\b\b\b\b\b\b\b\b\b\b\b\b\b\b\b\b\b\b\b\b\b\b\b\b\b\b\b\b\b\b\b\b\b\b\b\b\b\b\b\b\b\b\b\b\b\b\b\b\b\b\b\b\b\b\b\r31/38 [=======================>......] - ETA: 0s - loss: 0.0112 - accuracy: 0.9985",
      "\b\b\b\b\b\b\b\b\b\b\b\b\b\b\b\b\b\b\b\b\b\b\b\b\b\b\b\b\b\b\b\b\b\b\b\b\b\b\b\b\b\b\b\b\b\b\b\b\b\b\b\b\b\b\b\b\b\b\b\b\b\b\b\b\b\b\b\b\b\b\b\b\b\b\b\b\b\b\b\b\b\b\r38/38 [==============================] - 0s 7ms/step - loss: 0.0107 - accuracy: 0.9988 - val_loss: 0.1073 - val_accuracy: 0.9661\n",
      "Epoch 30/30\n",
      "\r 1/38 [..............................] - ETA: 0s - loss: 0.0084 - accuracy: 1.0000",
      "\b\b\b\b\b\b\b\b\b\b\b\b\b\b\b\b\b\b\b\b\b\b\b\b\b\b\b\b\b\b\b\b\b\b\b\b\b\b\b\b\b\b\b\b\b\b\b\b\b\b\b\b\b\b\b\b\b\b\b\b\b\b\b\b\b\b\b\b\b\b\b\b\b\b\b\b\b\b\b\b\b\b\r11/38 [=======>......................] - ETA: 0s - loss: 0.0094 - accuracy: 0.9979",
      "\b\b\b\b\b\b\b\b\b\b\b\b\b\b\b\b\b\b\b\b\b\b\b\b\b\b\b\b\b\b\b\b\b\b\b\b\b\b\b\b\b\b\b\b\b\b\b\b\b\b\b\b\b\b\b\b\b\b\b\b\b\b\b\b\b\b\b\b\b\b\b\b\b\b\b\b\b\b\b\b\b\b\r22/38 [================>.............] - ETA: 0s - loss: 0.0106 - accuracy: 0.9986",
      "\b\b\b\b\b\b\b\b\b\b\b\b\b\b\b\b\b\b\b\b\b\b\b\b\b\b\b\b\b\b\b\b\b\b\b\b\b\b\b\b\b\b\b\b\b\b\b\b\b\b\b\b\b\b\b\b\b\b\b\b\b\b\b\b\b\b\b\b\b\b\b\b\b\b\b\b\b\b\b\b\b\b\r32/38 [========================>.....] - ETA: 0s - loss: 0.0096 - accuracy: 0.9990",
      "\b\b\b\b\b\b\b\b\b\b\b\b\b\b\b\b\b\b\b\b\b\b\b\b\b\b\b\b\b\b\b\b\b\b\b\b\b\b\b\b\b\b\b\b\b\b\b\b\b\b\b\b\b\b\b\b\b\b\b\b\b\b\b\b\b\b\b\b\b\b\b\b\b\b\b\b\b\b\b\b\b\b\r38/38 [==============================] - 0s 7ms/step - loss: 0.0096 - accuracy: 0.9992 - val_loss: 0.1079 - val_accuracy: 0.9661\n"
     ],
     "output_type": "stream"
    }
   ],
   "source": [
    "history = model.fit(train_data,\n",
    "                    epochs=30,\n",
    "                    validation_data=val_data.batch(128,drop_remainder=True),\n",
    "                    verbose=1,class_weight={1:0.8,2:0.2})"
   ]
  },
  {
   "cell_type": "markdown",
   "metadata": {},
   "source": [
    "### Test Accuracies and Other Metrics"
   ]
  },
  {
   "cell_type": "code",
   "execution_count": 67,
   "metadata": {
    "pycharm": {
     "is_executing": false
    }
   },
   "outputs": [
    {
     "name": "stdout",
     "text": [
      "1/1 - 0s - loss: 0.1142 - accuracy: 0.9619\n",
      "loss: 0.114\naccuracy: 0.962\n",
      "-------------------------------\nPrecision 0.8995983935742972\nRecall 0.8682170542635659\nf1_score 0.8836291913214991\nconfusion_matrix\n[[1264   25]\n [  34  224]]\n------------------------------\n"
     ],
     "output_type": "stream"
    }
   ],
   "source": [
    "\n",
    "\n",
    "x,y=next(iter(test_data.batch(1547,drop_remainder=True)))\n",
    "predicted=model.predict_on_batch(x)\n",
    "results = model.evaluate(test_data.batch(1547), verbose=2)\n",
    "for name, value in zip(model.metrics_names, results):\n",
    "  print(\"%s: %.3f\" % (name, value))# \n",
    "tp=0\n",
    "tn=0\n",
    "y_pred=[]\n",
    "for row,val in enumerate(y):\n",
    "    if predicted[row]>0.5:\n",
    "        y_pred.append(1)\n",
    "    else:\n",
    "        y_pred.append(0)\n",
    "\n",
    "con_mat=confusion_matrix(y, y_pred)\n",
    "print(\"-------------------------------\")\n",
    "print(\"Precision\", precision_score(y, y_pred))\n",
    "print(\"Recall\", recall_score(y, y_pred))\n",
    "print(\"f1_score\", f1_score(y, y_pred))\n",
    "print(\"confusion_matrix\")\n",
    "print(con_mat)\n",
    "print(\"------------------------------\")"
   ]
  },
  {
   "cell_type": "code",
   "execution_count": 68,
   "metadata": {
    "pycharm": {
     "is_executing": false
    }
   },
   "outputs": [],
   "source": [
    "model.save('action_item_classifier_nn.h5') "
   ]
  },
  {
   "cell_type": "code",
   "execution_count": 70,
   "metadata": {
    "pycharm": {
     "is_executing": false
    }
   },
   "outputs": [
    {
     "data": {
      "text/plain": "<Figure size 360x360 with 2 Axes>",
      "image/png": "[encoded data removed]"
     },
     "metadata": {
      "needs_background": "light"
     },
     "output_type": "display_data"
    }
   ],
   "source": [
    "import numpy as np\n",
    "\n",
    "import matplotlib.pyplot as plt\n",
    "import seaborn as sns\n",
    "\n",
    "figure=plt.figure(figsize=(5,5))\n",
    "sns.heatmap(con_mat,annot=True,cmap=plt.cm.Blues,fmt=\"d\")\n",
    "plt.tight_layout()\n",
    "plt.ylabel('True Label')\n",
    "plt.xlabel('Predicted Label')\n",
    "plt.show()"
   ]
  },
  {
   "cell_type": "code",
   "execution_count": 71,
   "metadata": {
    "pycharm": {
     "is_executing": false
    }
   },
   "outputs": [
    {
     "data": {
      "text/plain": "array([[0.9825168 ],\n       [0.02465788],\n       [0.8993523 ]], dtype=float32)"
     },
     "metadata": {},
     "output_type": "execute_result",
     "execution_count": 71
    }
   ],
   "source": [
    "\n",
    "#load model\n",
    "model=tf.keras.models.load_model(\"action_item_classifier_nn.h5\",custom_objects={'KerasLayer':hub.KerasLayer})\n",
    "model.predict([\"send me the assignment by today\",\"the figures for enron are solid\",\"can you get me the latest news on the deal\"])"
   ]
  },
  {
   "cell_type": "code",
   "execution_count": 72,
   "metadata": {
    "pycharm": {
     "is_executing": false
    }
   },
   "outputs": [
    {
     "data": {
      "text/plain": "array([[0.9998393 ],\n       [0.86367106],\n       [0.76839554]], dtype=float32)"
     },
     "metadata": {},
     "output_type": "execute_result",
     "execution_count": 72
    }
   ],
   "source": [
    "model.predict([\"Please update jira task\",\"Updated Jira Task yesterday\",\"Have you updated the jira task yesterday?\"])"
   ]
  },
  {
   "cell_type": "code",
   "execution_count": 73,
   "metadata": {
    "pycharm": {
     "is_executing": false
    }
   },
   "outputs": [],
   "source": [
    "con_mat=[[1272,19],[51 ,205]]\n",
    "specificity=con_mat[0][0]/(con_mat[0][0]+con_mat[1][0])\n",
    "\n"
   ]
  },
  {
   "cell_type": "code",
   "execution_count": 74,
   "metadata": {
    "pycharm": {
     "is_executing": false
    }
   },
   "outputs": [
    {
     "data": {
      "text/plain": "0.9614512471655329"
     },
     "metadata": {},
     "output_type": "execute_result",
     "execution_count": 74
    }
   ],
   "source": [
    "specificity"
   ]
  },
  {
   "cell_type": "code",
   "execution_count": null,
   "metadata": {},
   "outputs": [],
   "source": []
  }
 ],
 "metadata": {
  "kernelspec": {
   "display_name": "Python 3",
   "language": "python",
   "name": "python3"
  },
  "language_info": {
   "codemirror_mode": {
    "name": "ipython",
    "version": 3
   },
   "file_extension": ".py",
   "mimetype": "text/x-python",
   "name": "python",
   "nbconvert_exporter": "python",
   "pygments_lexer": "ipython3",
   "version": "3.7.4"
  },
  "pycharm": {
   "stem_cell": {
    "cell_type": "raw",
    "source": [],
    "metadata": {
     "collapsed": false
    }
   }
  }
 },
 "nbformat": 4,
 "nbformat_minor": 2
}